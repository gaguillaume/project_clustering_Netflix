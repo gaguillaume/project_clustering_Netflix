{
 "cells": [
  {
   "cell_type": "markdown",
   "metadata": {},
   "source": [
    "# Naive Bayes algorithm with Netflix datas"
   ]
  },
  {
   "cell_type": "code",
   "execution_count": 4,
   "metadata": {},
   "outputs": [],
   "source": [
    "import numpy as np\n",
    "import pandas as pd\n",
    "import scipy as sp\n",
    "from scipy.spatial import Voronoi, voronoi_plot_2d\n",
    "import seaborn as sb\n",
    "import matplotlib.pyplot as plt\n",
    "%matplotlib inline\n",
    "\n",
    "from os import listdir"
   ]
  },
  {
   "cell_type": "code",
   "execution_count": 60,
   "metadata": {},
   "outputs": [],
   "source": [
    "def build_df(set='train', lang='en'):\n",
    "    '''\n",
    "    Fonction pour lire tous les fichiers dans un dataframe.\n",
    "    input :\n",
    "        set : Le set à construire - 'train' ou 'test'.\n",
    "        lang : La langue du set à construire - 'en' ou 'fr'.\n",
    "    '''\n",
    "    res = pd.DataFrame(columns=['content', 'label'])\n",
    "    \n",
    "    if lang=='en':\n",
    "        path = 'data/movie-reviews-en/'+set\n",
    "    elif lang=='fr':\n",
    "        path = 'data/movie-reviews-fr/'+set\n",
    "    pos_path = path+'/pos/'\n",
    "    neg_path = path+'/neg/'\n",
    "        \n",
    "    files = sorted(listdir(pos_path))\n",
    "    for file in files:\n",
    "        with open(pos_path+file, 'r') as f:\n",
    "            df = pd.DataFrame({'content':[f.read()], 'label':['pos']})\n",
    "            res = res.append(df, ignore_index=True)\n",
    "\n",
    "    files = sorted(listdir(neg_path))\n",
    "    for file in files:\n",
    "        with open(neg_path+file, 'r') as f:\n",
    "            df = pd.DataFrame({'content':[f.read()], 'label':['neg']})\n",
    "            res = res.append(df, ignore_index=True)\n",
    "    \n",
    "    return res"
   ]
  },
  {
   "cell_type": "code",
   "execution_count": 57,
   "metadata": {},
   "outputs": [],
   "source": [
    "df_train = build_df(set='train', lang='en')\n",
    "df_test = build_df(set='test', lang='en')"
   ]
  },
  {
   "cell_type": "code",
   "execution_count": 59,
   "metadata": {},
   "outputs": [
    {
     "data": {
      "text/html": [
       "<div>\n",
       "<style scoped>\n",
       "    .dataframe tbody tr th:only-of-type {\n",
       "        vertical-align: middle;\n",
       "    }\n",
       "\n",
       "    .dataframe tbody tr th {\n",
       "        vertical-align: top;\n",
       "    }\n",
       "\n",
       "    .dataframe thead th {\n",
       "        text-align: right;\n",
       "    }\n",
       "</style>\n",
       "<table border=\"1\" class=\"dataframe\">\n",
       "  <thead>\n",
       "    <tr style=\"text-align: right;\">\n",
       "      <th></th>\n",
       "      <th>content</th>\n",
       "      <th>label</th>\n",
       "    </tr>\n",
       "  </thead>\n",
       "  <tbody>\n",
       "    <tr>\n",
       "      <th>0</th>\n",
       "      <td>in 1912 , a ship set sail on her maiden voyage...</td>\n",
       "      <td>pos</td>\n",
       "    </tr>\n",
       "    <tr>\n",
       "      <th>1</th>\n",
       "      <td>the start of this movie reminded me of parts f...</td>\n",
       "      <td>pos</td>\n",
       "    </tr>\n",
       "    <tr>\n",
       "      <th>2</th>\n",
       "      <td>note : some may consider portions of the follo...</td>\n",
       "      <td>pos</td>\n",
       "    </tr>\n",
       "    <tr>\n",
       "      <th>3</th>\n",
       "      <td>robert altman's cookie's fortune is that rare ...</td>\n",
       "      <td>pos</td>\n",
       "    </tr>\n",
       "    <tr>\n",
       "      <th>4</th>\n",
       "      <td>well i'll be damned . . . \\nthe canadians can ...</td>\n",
       "      <td>pos</td>\n",
       "    </tr>\n",
       "    <tr>\n",
       "      <th>...</th>\n",
       "      <td>...</td>\n",
       "      <td>...</td>\n",
       "    </tr>\n",
       "    <tr>\n",
       "      <th>195</th>\n",
       "      <td>if anything , \" stigmata \" should be taken as ...</td>\n",
       "      <td>neg</td>\n",
       "    </tr>\n",
       "    <tr>\n",
       "      <th>196</th>\n",
       "      <td>john boorman's \" zardoz \" is a goofy cinematic...</td>\n",
       "      <td>neg</td>\n",
       "    </tr>\n",
       "    <tr>\n",
       "      <th>197</th>\n",
       "      <td>the kids in the hall are an acquired taste . \\...</td>\n",
       "      <td>neg</td>\n",
       "    </tr>\n",
       "    <tr>\n",
       "      <th>198</th>\n",
       "      <td>there was a time when john carpenter was a gre...</td>\n",
       "      <td>neg</td>\n",
       "    </tr>\n",
       "    <tr>\n",
       "      <th>199</th>\n",
       "      <td>two party guys bob their heads to haddaway's d...</td>\n",
       "      <td>neg</td>\n",
       "    </tr>\n",
       "  </tbody>\n",
       "</table>\n",
       "<p>200 rows × 2 columns</p>\n",
       "</div>"
      ],
      "text/plain": [
       "                                               content label\n",
       "0    in 1912 , a ship set sail on her maiden voyage...   pos\n",
       "1    the start of this movie reminded me of parts f...   pos\n",
       "2    note : some may consider portions of the follo...   pos\n",
       "3    robert altman's cookie's fortune is that rare ...   pos\n",
       "4    well i'll be damned . . . \\nthe canadians can ...   pos\n",
       "..                                                 ...   ...\n",
       "195  if anything , \" stigmata \" should be taken as ...   neg\n",
       "196  john boorman's \" zardoz \" is a goofy cinematic...   neg\n",
       "197  the kids in the hall are an acquired taste . \\...   neg\n",
       "198  there was a time when john carpenter was a gre...   neg\n",
       "199  two party guys bob their heads to haddaway's d...   neg\n",
       "\n",
       "[200 rows x 2 columns]"
      ]
     },
     "execution_count": 59,
     "metadata": {},
     "output_type": "execute_result"
    }
   ],
   "source": [
    "df_test"
   ]
  },
  {
   "cell_type": "code",
   "execution_count": 54,
   "metadata": {},
   "outputs": [],
   "source": []
  },
  {
   "cell_type": "code",
   "execution_count": null,
   "metadata": {},
   "outputs": [],
   "source": []
  },
  {
   "cell_type": "code",
   "execution_count": null,
   "metadata": {},
   "outputs": [],
   "source": []
  }
 ],
 "metadata": {
  "kernelspec": {
   "display_name": "Python 3",
   "language": "python",
   "name": "python3"
  },
  "language_info": {
   "codemirror_mode": {
    "name": "ipython",
    "version": 3
   },
   "file_extension": ".py",
   "mimetype": "text/x-python",
   "name": "python",
   "nbconvert_exporter": "python",
   "pygments_lexer": "ipython3",
   "version": "3.7.4"
  }
 },
 "nbformat": 4,
 "nbformat_minor": 2
}
