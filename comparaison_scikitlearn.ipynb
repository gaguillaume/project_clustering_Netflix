{
 "cells": [
  {
   "cell_type": "code",
   "execution_count": 26,
   "metadata": {},
   "outputs": [],
   "source": [
    "import pandas as pd \n",
    "import matplotlib.pyplot as plt \n",
    "import numpy as np \n",
    "import random as rd\n",
    "from sklearn.cluster import KMeans "
   ]
  },
  {
   "cell_type": "markdown",
   "metadata": {},
   "source": [
    "## La classe Point"
   ]
  },
  {
   "cell_type": "code",
   "execution_count": 27,
   "metadata": {},
   "outputs": [],
   "source": [
    "class Point: #définition de la classe point\n",
    "    \"\"\"Classé définissant un point caractérisée par : \n",
    "    - ses coordonnées \n",
    "    - sa couleur\"\"\"\n",
    "        \n",
    "    def __init__(self):\n",
    "        self.coords = [rd.uniform(0,10),rd.uniform(0,10)]\n",
    "        self.x = self.coords[0]\n",
    "        self.y = self.coords[1]\n",
    "        self.color = (rd.random(),rd.random(),rd.random())\n",
    "        \n",
    "    def coord(self,x,y):\n",
    "        \"\"\"Méthode permettant de générer des coordonées soi même\"\"\"\n",
    "        self.x = x\n",
    "        self.y = y\n",
    "        \n",
    "    "
   ]
  },
  {
   "cell_type": "markdown",
   "metadata": {},
   "source": [
    "## Test avec scikit-learn"
   ]
  },
  {
   "cell_type": "code",
   "execution_count": 71,
   "metadata": {},
   "outputs": [],
   "source": [
    "L = [] #liste de points\n",
    "X = []\n",
    "Y = []\n",
    "colors = []\n",
    "for i in range(30): \n",
    "    p = Point()\n",
    "    L.append(p)\n",
    "    X.append(p.x)\n",
    "    Y.append(p.y)\n",
    "    colors.append(p.color)"
   ]
  },
  {
   "cell_type": "code",
   "execution_count": 72,
   "metadata": {},
   "outputs": [
    {
     "data": {
      "text/html": [
       "<div>\n",
       "<style scoped>\n",
       "    .dataframe tbody tr th:only-of-type {\n",
       "        vertical-align: middle;\n",
       "    }\n",
       "\n",
       "    .dataframe tbody tr th {\n",
       "        vertical-align: top;\n",
       "    }\n",
       "\n",
       "    .dataframe thead th {\n",
       "        text-align: right;\n",
       "    }\n",
       "</style>\n",
       "<table border=\"1\" class=\"dataframe\">\n",
       "  <thead>\n",
       "    <tr style=\"text-align: right;\">\n",
       "      <th></th>\n",
       "      <th>x</th>\n",
       "      <th>y</th>\n",
       "    </tr>\n",
       "  </thead>\n",
       "  <tbody>\n",
       "    <tr>\n",
       "      <td>0</td>\n",
       "      <td>4.633619</td>\n",
       "      <td>6.815040</td>\n",
       "    </tr>\n",
       "    <tr>\n",
       "      <td>1</td>\n",
       "      <td>3.503822</td>\n",
       "      <td>6.899725</td>\n",
       "    </tr>\n",
       "    <tr>\n",
       "      <td>2</td>\n",
       "      <td>2.640232</td>\n",
       "      <td>5.099126</td>\n",
       "    </tr>\n",
       "    <tr>\n",
       "      <td>3</td>\n",
       "      <td>6.604861</td>\n",
       "      <td>4.376654</td>\n",
       "    </tr>\n",
       "    <tr>\n",
       "      <td>4</td>\n",
       "      <td>4.083465</td>\n",
       "      <td>3.961526</td>\n",
       "    </tr>\n",
       "    <tr>\n",
       "      <td>5</td>\n",
       "      <td>7.910665</td>\n",
       "      <td>8.349040</td>\n",
       "    </tr>\n",
       "    <tr>\n",
       "      <td>6</td>\n",
       "      <td>6.833445</td>\n",
       "      <td>9.105420</td>\n",
       "    </tr>\n",
       "    <tr>\n",
       "      <td>7</td>\n",
       "      <td>9.967700</td>\n",
       "      <td>6.596808</td>\n",
       "    </tr>\n",
       "    <tr>\n",
       "      <td>8</td>\n",
       "      <td>9.014106</td>\n",
       "      <td>5.078337</td>\n",
       "    </tr>\n",
       "    <tr>\n",
       "      <td>9</td>\n",
       "      <td>6.153853</td>\n",
       "      <td>4.866186</td>\n",
       "    </tr>\n",
       "    <tr>\n",
       "      <td>10</td>\n",
       "      <td>4.492213</td>\n",
       "      <td>0.299809</td>\n",
       "    </tr>\n",
       "    <tr>\n",
       "      <td>11</td>\n",
       "      <td>0.288336</td>\n",
       "      <td>2.081218</td>\n",
       "    </tr>\n",
       "    <tr>\n",
       "      <td>12</td>\n",
       "      <td>1.003004</td>\n",
       "      <td>3.418739</td>\n",
       "    </tr>\n",
       "    <tr>\n",
       "      <td>13</td>\n",
       "      <td>6.003812</td>\n",
       "      <td>8.569464</td>\n",
       "    </tr>\n",
       "    <tr>\n",
       "      <td>14</td>\n",
       "      <td>3.682568</td>\n",
       "      <td>3.543205</td>\n",
       "    </tr>\n",
       "    <tr>\n",
       "      <td>15</td>\n",
       "      <td>1.678315</td>\n",
       "      <td>4.990262</td>\n",
       "    </tr>\n",
       "    <tr>\n",
       "      <td>16</td>\n",
       "      <td>8.416082</td>\n",
       "      <td>2.607033</td>\n",
       "    </tr>\n",
       "    <tr>\n",
       "      <td>17</td>\n",
       "      <td>4.247580</td>\n",
       "      <td>4.802772</td>\n",
       "    </tr>\n",
       "    <tr>\n",
       "      <td>18</td>\n",
       "      <td>1.762192</td>\n",
       "      <td>8.288372</td>\n",
       "    </tr>\n",
       "    <tr>\n",
       "      <td>19</td>\n",
       "      <td>0.691799</td>\n",
       "      <td>9.478173</td>\n",
       "    </tr>\n",
       "    <tr>\n",
       "      <td>20</td>\n",
       "      <td>8.979331</td>\n",
       "      <td>8.168700</td>\n",
       "    </tr>\n",
       "    <tr>\n",
       "      <td>21</td>\n",
       "      <td>2.230835</td>\n",
       "      <td>4.171825</td>\n",
       "    </tr>\n",
       "    <tr>\n",
       "      <td>22</td>\n",
       "      <td>9.618607</td>\n",
       "      <td>8.840280</td>\n",
       "    </tr>\n",
       "    <tr>\n",
       "      <td>23</td>\n",
       "      <td>0.366225</td>\n",
       "      <td>3.531323</td>\n",
       "    </tr>\n",
       "    <tr>\n",
       "      <td>24</td>\n",
       "      <td>7.081113</td>\n",
       "      <td>4.696177</td>\n",
       "    </tr>\n",
       "    <tr>\n",
       "      <td>25</td>\n",
       "      <td>6.051909</td>\n",
       "      <td>1.736831</td>\n",
       "    </tr>\n",
       "    <tr>\n",
       "      <td>26</td>\n",
       "      <td>3.636976</td>\n",
       "      <td>3.985946</td>\n",
       "    </tr>\n",
       "    <tr>\n",
       "      <td>27</td>\n",
       "      <td>0.027535</td>\n",
       "      <td>1.758767</td>\n",
       "    </tr>\n",
       "    <tr>\n",
       "      <td>28</td>\n",
       "      <td>5.461503</td>\n",
       "      <td>0.052062</td>\n",
       "    </tr>\n",
       "    <tr>\n",
       "      <td>29</td>\n",
       "      <td>7.321833</td>\n",
       "      <td>8.386644</td>\n",
       "    </tr>\n",
       "  </tbody>\n",
       "</table>\n",
       "</div>"
      ],
      "text/plain": [
       "           x         y\n",
       "0   4.633619  6.815040\n",
       "1   3.503822  6.899725\n",
       "2   2.640232  5.099126\n",
       "3   6.604861  4.376654\n",
       "4   4.083465  3.961526\n",
       "5   7.910665  8.349040\n",
       "6   6.833445  9.105420\n",
       "7   9.967700  6.596808\n",
       "8   9.014106  5.078337\n",
       "9   6.153853  4.866186\n",
       "10  4.492213  0.299809\n",
       "11  0.288336  2.081218\n",
       "12  1.003004  3.418739\n",
       "13  6.003812  8.569464\n",
       "14  3.682568  3.543205\n",
       "15  1.678315  4.990262\n",
       "16  8.416082  2.607033\n",
       "17  4.247580  4.802772\n",
       "18  1.762192  8.288372\n",
       "19  0.691799  9.478173\n",
       "20  8.979331  8.168700\n",
       "21  2.230835  4.171825\n",
       "22  9.618607  8.840280\n",
       "23  0.366225  3.531323\n",
       "24  7.081113  4.696177\n",
       "25  6.051909  1.736831\n",
       "26  3.636976  3.985946\n",
       "27  0.027535  1.758767\n",
       "28  5.461503  0.052062\n",
       "29  7.321833  8.386644"
      ]
     },
     "execution_count": 72,
     "metadata": {},
     "output_type": "execute_result"
    }
   ],
   "source": [
    "#création du dataframe sur lequel on va travailler \n",
    "df = pd.DataFrame({'x': X, 'y': Y})\n",
    "df"
   ]
  },
  {
   "cell_type": "code",
   "execution_count": 73,
   "metadata": {},
   "outputs": [
    {
     "data": {
      "image/png": "[encoded data removed]",
      "text/plain": [
       "<Figure size 432x288 with 1 Axes>"
      ]
     },
     "metadata": {
      "needs_background": "light"
     },
     "output_type": "display_data"
    }
   ],
   "source": [
    "#création du nuages de points \n",
    "plt.scatter(X,Y,c=colors)\n",
    "plt.show()"
   ]
  },
  {
   "cell_type": "markdown",
   "metadata": {},
   "source": [
    "Ici, nous allons tester KMeans sans l'avoir implémenter précédemment en utilisant scikit-learn"
   ]
  },
  {
   "cell_type": "code",
   "execution_count": 74,
   "metadata": {},
   "outputs": [
    {
     "data": {
      "image/png": "[encoded data removed]",
      "text/plain": [
       "<Figure size 432x288 with 1 Axes>"
      ]
     },
     "metadata": {
      "needs_background": "light"
     },
     "output_type": "display_data"
    }
   ],
   "source": [
    "#on suppose que le nombre de clusters n'est pas connu \n",
    "tab = []\n",
    "for i in range(1,11):#on va chercher quel nombre de clusters est optimal \n",
    "    kmeans = KMeans(n_clusters=i)\n",
    "    kmeans.fit(df)\n",
    "    tab.append(kmeans.inertia_)#liste contenant l'inertie intraclasse selon le nombre de clusters\n",
    "plt.plot(range(1,11),tab)\n",
    "plt.title(\"La méthode Eblow\")\n",
    "plt.ylabel(\"Inertie\")\n",
    "plt.xlabel(\"Nombre de clusters\")\n",
    "plt.show()"
   ]
  },
  {
   "cell_type": "markdown",
   "metadata": {},
   "source": [
    "On doit observer quand est-ce que l'inertie a une baisse assez conséquente. Puisque que les données sont générées aléatoirement l'inertie entre les clusters sera quand même assez élevé sauf si l'on décide de choisir un grand nombre de clusters et ce n'est pas ce que l'on cherche."
   ]
  },
  {
   "cell_type": "markdown",
   "metadata": {},
   "source": [
    "### /!\\ Il faut changer le nombre de clusters selon ce que l'on a choisi en changeant la variable cluster "
   ]
  },
  {
   "cell_type": "code",
   "execution_count": 82,
   "metadata": {},
   "outputs": [
    {
     "data": {
      "text/plain": [
       "KMeans(algorithm='auto', copy_x=True, init='k-means++', max_iter=300,\n",
       "       n_clusters=6, n_init=10, n_jobs=None, precompute_distances='auto',\n",
       "       random_state=None, tol=0.0001, verbose=0)"
      ]
     },
     "execution_count": 82,
     "metadata": {},
     "output_type": "execute_result"
    }
   ],
   "source": [
    "cluster = 6 \n",
    "kmeans = KMeans(n_clusters=cluster)\n",
    "kmeans.fit(df)"
   ]
  },
  {
   "cell_type": "markdown",
   "metadata": {},
   "source": [
    "On va maintenant visualiser ce que donne la classification par l'algorithme KMeans "
   ]
  },
  {
   "cell_type": "code",
   "execution_count": 76,
   "metadata": {},
   "outputs": [
    {
     "data": {
      "image/png": "[encoded data removed]",
      "text/plain": [
       "<Figure size 432x288 with 1 Axes>"
      ]
     },
     "metadata": {
      "needs_background": "light"
     },
     "output_type": "display_data"
    }
   ],
   "source": [
    "plt.scatter(X,Y,c=kmeans.predict(df)) #les différents clusters selon les \n",
    "plt.scatter(kmeans.cluster_centers_[:,0],kmeans.cluster_centers_[:,1],c='r')\n",
    "plt.show()"
   ]
  },
  {
   "cell_type": "code",
   "execution_count": 77,
   "metadata": {},
   "outputs": [
    {
     "data": {
      "text/plain": [
       "array([0, 0, 0, 4, 0, 1, 1, 1, 4, 4, 3, 5, 5, 1, 0, 0, 4, 0, 2, 2, 1, 0,\n",
       "       1, 5, 4, 3, 0, 5, 3, 1])"
      ]
     },
     "execution_count": 77,
     "metadata": {},
     "output_type": "execute_result"
    }
   ],
   "source": [
    "prediction = kmeans.predict(df)\n",
    "prediction"
   ]
  },
  {
   "cell_type": "code",
   "execution_count": 78,
   "metadata": {},
   "outputs": [
    {
     "data": {
      "text/plain": [
       "53.73817715146561"
      ]
     },
     "execution_count": 78,
     "metadata": {},
     "output_type": "execute_result"
    }
   ],
   "source": [
    "inertie = kmeans.inertia_\n",
    "inertie "
   ]
  },
  {
   "cell_type": "markdown",
   "metadata": {},
   "source": [
    "## Implémentation de l'algorithme KMeans "
   ]
  },
  {
   "cell_type": "code",
   "execution_count": 79,
   "metadata": {},
   "outputs": [],
   "source": [
    "class kmean:\n",
    "    \n",
    "    def __init__(self, n_clusters=2):\n",
    "        self.K = n_clusters\n",
    "        \n",
    "    def fit1(self, X):\n",
    "        \"\"\"\n",
    "        On itère tant que les labels ne changent pas d'une itération à une autre.\n",
    "        \"\"\"\n",
    "        self.centroids = np.array(X.iloc[np.random.choice(len(X), self.K, replace=False)])\n",
    "        self.initial_centroids = self.centroids\n",
    "        self.prev_label,  self.labels = None, np.zeros(len(X))\n",
    "        while not np.all(self.labels == self.prev_label) :\n",
    "            self.prev_label = self.labels\n",
    "            self.labels = self.predict(X)\n",
    "            self.update_centroid(X)\n",
    "        return self\n",
    "    \n",
    "    def fit2(self, X):\n",
    "        \"\"\"\n",
    "        On fait un nombre fixe d'itérations. Ici 10, mais pourrait être passé en paramètre.\n",
    "        \"\"\"\n",
    "        self.centroids = np.array(X.iloc[np.random.choice(len(X), self.K, replace=False)])\n",
    "        self.initial_centroids = self.centroids\n",
    "        self.prev_label,  self.labels = None, np.zeros(len(X))\n",
    "        for iter in range(50):\n",
    "            self.prev_label = self.labels\n",
    "            self.labels = self.predict(X)\n",
    "            self.update_centroid(X)\n",
    "        return self\n",
    "        \n",
    "    def predict(self, X):\n",
    "        return np.apply_along_axis(self.compute_label, 1, X)\n",
    "\n",
    "    def compute_label(self, x):\n",
    "        return self.euclidian_dist(x).argmin()\n",
    "    \n",
    "    def euclidian_dist(self, x):\n",
    "        return np.sqrt(np.sum((x - self.centroids)**2, axis=1))\n",
    "\n",
    "    def update_centroid(self, X):\n",
    "        self.centroids = np.array([np.mean(X[self.labels == k], axis=0)  for k in range(self.K)])"
   ]
  },
  {
   "cell_type": "code",
   "execution_count": 83,
   "metadata": {},
   "outputs": [
    {
     "data": {
      "text/plain": [
       "array([2, 2, 4, 5, 4, 3, 3, 5, 5, 5, 1, 4, 4, 3, 4, 4, 5, 4, 2, 2, 3, 4,\n",
       "       3, 4, 5, 0, 4, 4, 1, 3], dtype=int64)"
      ]
     },
     "execution_count": 83,
     "metadata": {},
     "output_type": "execute_result"
    }
   ],
   "source": [
    "model = kmean(6)\n",
    "model.fit1(df)\n",
    "pred = model.labels\n",
    "pred"
   ]
  },
  {
   "cell_type": "markdown",
   "metadata": {},
   "source": [
    "Comparons les deux modèles entre eux"
   ]
  },
  {
   "cell_type": "code",
   "execution_count": 84,
   "metadata": {},
   "outputs": [
    {
     "data": {
      "text/plain": [
       "([<matplotlib.patches.Wedge at 0x1a655ef1548>,\n",
       "  <matplotlib.patches.Wedge at 0x1a655f5f948>],\n",
       " [Text(1.0461621663333946, 0.3399186987098808, 'identiques'),\n",
       "  Text(-1.0461621902025062, -0.33991862524830146, 'différents')])"
      ]
     },
     "execution_count": 84,
     "metadata": {},
     "output_type": "execute_result"
    },
    {
     "data": {
      "image/png": "[encoded data removed]",
      "text/plain": [
       "<Figure size 432x288 with 1 Axes>"
      ]
     },
     "metadata": {},
     "output_type": "display_data"
    }
   ],
   "source": [
    "l = 0\n",
    "for i in range(20):\n",
    "    if prediction[i]==pred[i]:\n",
    "        l+=1\n",
    "wins = l/20.\n",
    "plt.pie([wins, 1-wins],labels=['identiques','différents'],colors=['g','r'])"
   ]
  },
  {
   "cell_type": "code",
   "execution_count": null,
   "metadata": {},
   "outputs": [],
   "source": []
  }
 ],
 "metadata": {
  "kernelspec": {
   "display_name": "Python 3",
   "language": "python",
   "name": "python3"
  },
  "language_info": {
   "codemirror_mode": {
    "name": "ipython",
    "version": 3
   },
   "file_extension": ".py",
   "mimetype": "text/x-python",
   "name": "python",
   "nbconvert_exporter": "python",
   "pygments_lexer": "ipython3",
   "version": "3.7.4"
  }
 },
 "nbformat": 4,
 "nbformat_minor": 2
}
