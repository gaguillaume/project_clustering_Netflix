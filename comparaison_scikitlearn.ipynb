{
 "cells": [
  {
   "cell_type": "code",
   "execution_count": 1,
   "metadata": {},
   "outputs": [],
   "source": [
    "import pandas as pd \n",
    "import matplotlib.pyplot as plt \n",
    "import numpy as np \n",
    "import random as rd\n",
    "from sklearn.cluster import KMeans "
   ]
  },
  {
   "cell_type": "markdown",
   "metadata": {},
   "source": [
    "## La classe Point"
   ]
  },
  {
   "cell_type": "code",
   "execution_count": 2,
   "metadata": {},
   "outputs": [],
   "source": [
    "class Point: #définition de la classe point\n",
    "    \"\"\"Classé définissant un point caractérisée par : \n",
    "    - ses coordonnées \n",
    "    - sa couleur\"\"\"\n",
    "        \n",
    "    def __init__(self):\n",
    "        self.coords = [rd.uniform(0,10),rd.uniform(0,10)]\n",
    "        self.x = self.coords[0]\n",
    "        self.y = self.coords[1]\n",
    "        self.color = (rd.random(),rd.random(),rd.random())\n",
    "        \n",
    "    def coord(self,x,y):\n",
    "        \"\"\"Méthode permettant de générer des coordonées soi même\"\"\"\n",
    "        self.x = x\n",
    "        self.y = y"
   ]
  },
  {
   "cell_type": "markdown",
   "metadata": {},
   "source": [
    "## Test avec scikit-learn"
   ]
  },
  {
   "cell_type": "code",
   "execution_count": 20,
   "metadata": {},
   "outputs": [],
   "source": [
    "L = [] #liste de points\n",
    "X = []\n",
    "Y = []\n",
    "colors = []\n",
    "for i in range(10): \n",
    "    p = Point()\n",
    "    L.append(p)\n",
    "    X.append(p.x)\n",
    "    Y.append(p.y)\n",
    "    colors.append(p.color)"
   ]
  },
  {
   "cell_type": "code",
   "execution_count": 21,
   "metadata": {},
   "outputs": [
    {
     "data": {
      "text/html": [
       "<div>\n",
       "<style scoped>\n",
       "    .dataframe tbody tr th:only-of-type {\n",
       "        vertical-align: middle;\n",
       "    }\n",
       "\n",
       "    .dataframe tbody tr th {\n",
       "        vertical-align: top;\n",
       "    }\n",
       "\n",
       "    .dataframe thead th {\n",
       "        text-align: right;\n",
       "    }\n",
       "</style>\n",
       "<table border=\"1\" class=\"dataframe\">\n",
       "  <thead>\n",
       "    <tr style=\"text-align: right;\">\n",
       "      <th></th>\n",
       "      <th>x</th>\n",
       "      <th>y</th>\n",
       "    </tr>\n",
       "  </thead>\n",
       "  <tbody>\n",
       "    <tr>\n",
       "      <td>0</td>\n",
       "      <td>2.966434</td>\n",
       "      <td>9.624972</td>\n",
       "    </tr>\n",
       "    <tr>\n",
       "      <td>1</td>\n",
       "      <td>4.716948</td>\n",
       "      <td>1.778301</td>\n",
       "    </tr>\n",
       "    <tr>\n",
       "      <td>2</td>\n",
       "      <td>1.402192</td>\n",
       "      <td>3.423762</td>\n",
       "    </tr>\n",
       "    <tr>\n",
       "      <td>3</td>\n",
       "      <td>2.058247</td>\n",
       "      <td>7.853495</td>\n",
       "    </tr>\n",
       "    <tr>\n",
       "      <td>4</td>\n",
       "      <td>3.962807</td>\n",
       "      <td>6.223775</td>\n",
       "    </tr>\n",
       "    <tr>\n",
       "      <td>5</td>\n",
       "      <td>0.165939</td>\n",
       "      <td>2.907094</td>\n",
       "    </tr>\n",
       "    <tr>\n",
       "      <td>6</td>\n",
       "      <td>2.603265</td>\n",
       "      <td>9.995535</td>\n",
       "    </tr>\n",
       "    <tr>\n",
       "      <td>7</td>\n",
       "      <td>8.360515</td>\n",
       "      <td>1.704324</td>\n",
       "    </tr>\n",
       "    <tr>\n",
       "      <td>8</td>\n",
       "      <td>9.828294</td>\n",
       "      <td>5.231799</td>\n",
       "    </tr>\n",
       "    <tr>\n",
       "      <td>9</td>\n",
       "      <td>3.943862</td>\n",
       "      <td>2.511042</td>\n",
       "    </tr>\n",
       "  </tbody>\n",
       "</table>\n",
       "</div>"
      ],
      "text/plain": [
       "          x         y\n",
       "0  2.966434  9.624972\n",
       "1  4.716948  1.778301\n",
       "2  1.402192  3.423762\n",
       "3  2.058247  7.853495\n",
       "4  3.962807  6.223775\n",
       "5  0.165939  2.907094\n",
       "6  2.603265  9.995535\n",
       "7  8.360515  1.704324\n",
       "8  9.828294  5.231799\n",
       "9  3.943862  2.511042"
      ]
     },
     "execution_count": 21,
     "metadata": {},
     "output_type": "execute_result"
    }
   ],
   "source": [
    "#création du dataframe sur lequel on va travailler \n",
    "df = pd.DataFrame({'x': X, 'y': Y})\n",
    "df"
   ]
  },
  {
   "cell_type": "code",
   "execution_count": 22,
   "metadata": {},
   "outputs": [
    {
     "data": {
      "image/png": "[encoded data removed]",
      "text/plain": [
       "<Figure size 432x288 with 1 Axes>"
      ]
     },
     "metadata": {
      "needs_background": "light"
     },
     "output_type": "display_data"
    }
   ],
   "source": [
    "#création du nuages de points \n",
    "plt.scatter(X,Y,c=colors)\n",
    "plt.show()"
   ]
  },
  {
   "cell_type": "markdown",
   "metadata": {},
   "source": [
    "Ici, nous allons tester KMeans sans l'avoir implémenter précédemment en utilisant scikit-learn"
   ]
  },
  {
   "cell_type": "code",
   "execution_count": 23,
   "metadata": {},
   "outputs": [
    {
     "data": {
      "image/png": "[encoded data removed]",
      "text/plain": [
       "<Figure size 432x288 with 1 Axes>"
      ]
     },
     "metadata": {
      "needs_background": "light"
     },
     "output_type": "display_data"
    }
   ],
   "source": [
    "#on suppose que le nombre de clusters n'est pas connu \n",
    "tab = []\n",
    "for i in range(1,11):#on va chercher quel nombre de clusters est optimal \n",
    "    kmeans = KMeans(n_clusters=i)\n",
    "    kmeans.fit(df)\n",
    "    tab.append(kmeans.inertia_)#liste contenant l'inertie intraclasse selon le nombre de clusters\n",
    "plt.plot(range(1,11),tab)\n",
    "plt.title(\"La méthode Eblow\")\n",
    "plt.ylabel(\"Inertie\")\n",
    "plt.xlabel(\"Nombre de clusters\")\n",
    "plt.show()"
   ]
  },
  {
   "cell_type": "markdown",
   "metadata": {},
   "source": [
    "On doit observer quand est-ce que l'inertie a une baisse assez conséquente. Puisque que les données sont générées aléatoirement l'inertie entre les clusters sera quand même assez élevé sauf si l'on décide de choisir un grand nombre de clusters et ce n'est pas ce que l'on cherche."
   ]
  },
  {
   "cell_type": "markdown",
   "metadata": {},
   "source": [
    "### /!\\ Il faut changer le nombre de clusters selon ce que l'on a choisi en changeant la variable cluster "
   ]
  },
  {
   "cell_type": "code",
   "execution_count": 24,
   "metadata": {},
   "outputs": [
    {
     "data": {
      "text/plain": [
       "KMeans(algorithm='auto', copy_x=True, init='k-means++', max_iter=300,\n",
       "       n_clusters=4, n_init=10, n_jobs=None, precompute_distances='auto',\n",
       "       random_state=None, tol=0.0001, verbose=0)"
      ]
     },
     "execution_count": 24,
     "metadata": {},
     "output_type": "execute_result"
    }
   ],
   "source": [
    "cluster = 4\n",
    "kmeans = KMeans(n_clusters=cluster)\n",
    "kmeans.fit(df)"
   ]
  },
  {
   "cell_type": "markdown",
   "metadata": {},
   "source": [
    "On va maintenant visualiser ce que donne la classification par l'algorithme KMeans "
   ]
  },
  {
   "cell_type": "code",
   "execution_count": 25,
   "metadata": {},
   "outputs": [
    {
     "data": {
      "image/png": "[encoded data removed]",
      "text/plain": [
       "<Figure size 432x288 with 1 Axes>"
      ]
     },
     "metadata": {
      "needs_background": "light"
     },
     "output_type": "display_data"
    }
   ],
   "source": [
    "plt.scatter(X,Y,c=kmeans.predict(df)) #les différents clusters selon les \n",
    "plt.scatter(kmeans.cluster_centers_[:,0],kmeans.cluster_centers_[:,1],c='r')\n",
    "plt.show()"
   ]
  },
  {
   "cell_type": "code",
   "execution_count": 26,
   "metadata": {},
   "outputs": [
    {
     "data": {
      "text/plain": [
       "array([1, 3, 2, 1, 1, 2, 1, 0, 0, 3])"
      ]
     },
     "execution_count": 26,
     "metadata": {},
     "output_type": "execute_result"
    }
   ],
   "source": [
    "prediction = kmeans.predict(df)\n",
    "prediction"
   ]
  },
  {
   "cell_type": "code",
   "execution_count": 27,
   "metadata": {},
   "outputs": [
    {
     "data": {
      "text/plain": [
       "19.77271885201375"
      ]
     },
     "execution_count": 27,
     "metadata": {},
     "output_type": "execute_result"
    }
   ],
   "source": [
    "inertie = kmeans.inertia_\n",
    "inertie "
   ]
  },
  {
   "cell_type": "markdown",
   "metadata": {},
   "source": [
    "## Implémentation de l'algorithme KMeans "
   ]
  },
  {
   "cell_type": "code",
   "execution_count": 28,
   "metadata": {},
   "outputs": [],
   "source": [
    "class kmean:\n",
    "    \n",
    "    def __init__(self, n_clusters=2):\n",
    "        self.K = n_clusters\n",
    "        \n",
    "    def fit1(self, X):\n",
    "        \"\"\"\n",
    "        On itère tant que les labels ne changent pas d'une itération à une autre.\n",
    "        \"\"\"\n",
    "        self.centroids = np.array(X.iloc[np.random.choice(len(X), self.K, replace=False)])\n",
    "        self.initial_centroids = self.centroids\n",
    "        self.prev_label,  self.labels = None, np.zeros(len(X))\n",
    "        while not np.all(self.labels == self.prev_label) :\n",
    "            self.prev_label = self.labels\n",
    "            self.labels = self.predict(X)\n",
    "            self.update_centroid(X)\n",
    "        return self\n",
    "    \n",
    "    def fit2(self, X):\n",
    "        \"\"\"\n",
    "        On fait un nombre fixe d'itérations. Ici 10, mais pourrait être passé en paramètre.\n",
    "        \"\"\"\n",
    "        self.centroids = np.array(X.iloc[np.random.choice(len(X), self.K, replace=False)])\n",
    "        self.initial_centroids = self.centroids\n",
    "        self.prev_label,  self.labels = None, np.zeros(len(X))\n",
    "        for iter in range(50):\n",
    "            self.prev_label = self.labels\n",
    "            self.labels = self.predict(X)\n",
    "            self.update_centroid(X)\n",
    "        return self\n",
    "        \n",
    "    def predict(self, X):\n",
    "        return np.apply_along_axis(self.compute_label, 1, X)\n",
    "\n",
    "    def compute_label(self, x):\n",
    "        return self.euclidian_dist(x).argmin()\n",
    "    \n",
    "    def euclidian_dist(self, x):\n",
    "        return np.sqrt(np.sum((x - self.centroids)**2, axis=1))\n",
    "\n",
    "    def update_centroid(self, X):\n",
    "        self.centroids = np.array([np.mean(X[self.labels == k], axis=0)  for k in range(self.K)])"
   ]
  },
  {
   "cell_type": "code",
   "execution_count": 33,
   "metadata": {},
   "outputs": [
    {
     "data": {
      "text/plain": [
       "array([0, 2, 1, 0, 0, 1, 0, 3, 3, 2], dtype=int64)"
      ]
     },
     "execution_count": 33,
     "metadata": {},
     "output_type": "execute_result"
    }
   ],
   "source": [
    "model = kmean(4)\n",
    "model.fit1(df)\n",
    "pred = model.labels\n",
    "pred"
   ]
  },
  {
   "cell_type": "markdown",
   "metadata": {},
   "source": [
    "Comparons les deux modèles entre eux"
   ]
  },
  {
   "cell_type": "code",
   "execution_count": 38,
   "metadata": {},
   "outputs": [
    {
     "data": {
      "text/plain": [
       "([<matplotlib.patches.Wedge at 0x29b95f7d248>,\n",
       "  <matplotlib.patches.Wedge at 0x29b95f7d648>],\n",
       " [Text(-0.8899187180267095, 0.6465637441936395, 'identiques'),\n",
       "  Text(0.8899187482945414, -0.6465637025335375, 'différents')])"
      ]
     },
     "execution_count": 38,
     "metadata": {},
     "output_type": "execute_result"
    },
    {
     "data": {
      "image/png": "[encoded data removed]",
      "text/plain": [
       "<Figure size 432x288 with 1 Axes>"
      ]
     },
     "metadata": {},
     "output_type": "display_data"
    }
   ],
   "source": [
    "l = 0\n",
    "for i in range(10):\n",
    "    if prediction[i]-1==pred[i]:\n",
    "        l+=1\n",
    "wins = l/10.\n",
    "plt.pie([wins, 1-wins],labels=['identiques','différents'],colors=['g','r'])"
   ]
  },
  {
   "cell_type": "code",
   "execution_count": null,
   "metadata": {},
   "outputs": [],
   "source": []
  }
 ],
 "metadata": {
  "kernelspec": {
   "display_name": "Python 3",
   "language": "python",
   "name": "python3"
  },
  "language_info": {
   "codemirror_mode": {
    "name": "ipython",
    "version": 3
   },
   "file_extension": ".py",
   "mimetype": "text/x-python",
   "name": "python",
   "nbconvert_exporter": "python",
   "pygments_lexer": "ipython3",
   "version": "3.7.4"
  }
 },
 "nbformat": 4,
 "nbformat_minor": 2
}
