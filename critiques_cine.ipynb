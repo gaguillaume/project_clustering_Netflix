{
 "cells": [
  {
   "cell_type": "code",
   "execution_count": 1,
   "metadata": {},
   "outputs": [],
   "source": [
    "from os import listdir \n",
    "import numpy as np\n",
    "import pandas as pd\n",
    "import scipy as sp\n",
    "import regex as re \n",
    "from scipy.spatial import Voronoi, voronoi_plot_2d\n",
    "import seaborn as sb\n",
    "import nltk\n",
    "import heapq\n",
    "from sklearn.feature_extraction.text import CountVectorizer\n",
    "from sklearn.naive_bayes import MultinomialNB "
   ]
  },
  {
   "cell_type": "markdown",
   "metadata": {},
   "source": [
    "## chargement des données "
   ]
  },
  {
   "cell_type": "code",
   "execution_count": 38,
   "metadata": {},
   "outputs": [],
   "source": [
    "def build_df(set='train', lang='en'):\n",
    "    '''\n",
    "    Fonction pour lire tous les fichiers dans un dataframe.\n",
    "    input :\n",
    "        set : Le set à construire - 'train' ou 'test'.\n",
    "        lang : La langue du set à construire - 'en' ou 'fr'.\n",
    "    '''\n",
    "    res = pd.DataFrame(columns=['content', 'label'])\n",
    "    \n",
    "    if lang=='en':\n",
    "        path = 'data/movie-reviews-en/'+set\n",
    "    elif lang=='fr':\n",
    "        path = 'data/movie-reviews-fr/'+set\n",
    "    pos_path = path+'/pos/'\n",
    "    neg_path = path+'/neg/'\n",
    "        \n",
    "    files = sorted(listdir(pos_path))\n",
    "    for file in files:\n",
    "        with open(pos_path+file, 'r',encoding=\"utf8\") as f:\n",
    "            df = pd.DataFrame({'content':[f.read()], 'label':['pos']})\n",
    "            res = res.append(df, ignore_index=True)\n",
    "\n",
    "    files = sorted(listdir(neg_path))\n",
    "    for file in files:\n",
    "        with open(neg_path+file, 'r',encoding=\"utf8\") as f:\n",
    "            df = pd.DataFrame({'content':[f.read()], 'label':['neg']})\n",
    "            res = res.append(df, ignore_index=True)\n",
    "    \n",
    "    return res"
   ]
  },
  {
   "cell_type": "code",
   "execution_count": 39,
   "metadata": {},
   "outputs": [],
   "source": [
    "a_train = build_df(set='train', lang='en')\n",
    "a_test = build_df(set='test', lang='en')"
   ]
  },
  {
   "cell_type": "code",
   "execution_count": 40,
   "metadata": {},
   "outputs": [
    {
     "data": {
      "text/html": [
       "<div>\n",
       "<style scoped>\n",
       "    .dataframe tbody tr th:only-of-type {\n",
       "        vertical-align: middle;\n",
       "    }\n",
       "\n",
       "    .dataframe tbody tr th {\n",
       "        vertical-align: top;\n",
       "    }\n",
       "\n",
       "    .dataframe thead th {\n",
       "        text-align: right;\n",
       "    }\n",
       "</style>\n",
       "<table border=\"1\" class=\"dataframe\">\n",
       "  <thead>\n",
       "    <tr style=\"text-align: right;\">\n",
       "      <th></th>\n",
       "      <th>content</th>\n",
       "      <th>label</th>\n",
       "    </tr>\n",
       "  </thead>\n",
       "  <tbody>\n",
       "    <tr>\n",
       "      <td>0</td>\n",
       "      <td>films adapted from comic books have had plenty...</td>\n",
       "      <td>pos</td>\n",
       "    </tr>\n",
       "    <tr>\n",
       "      <td>1</td>\n",
       "      <td>every now and then a movie comes along from a ...</td>\n",
       "      <td>pos</td>\n",
       "    </tr>\n",
       "    <tr>\n",
       "      <td>2</td>\n",
       "      <td>you've got mail works alot better than it dese...</td>\n",
       "      <td>pos</td>\n",
       "    </tr>\n",
       "    <tr>\n",
       "      <td>3</td>\n",
       "      <td>\" jaws \" is a rare film that grabs your atten...</td>\n",
       "      <td>pos</td>\n",
       "    </tr>\n",
       "    <tr>\n",
       "      <td>4</td>\n",
       "      <td>moviemaking is a lot like being the general ma...</td>\n",
       "      <td>pos</td>\n",
       "    </tr>\n",
       "    <tr>\n",
       "      <td>...</td>\n",
       "      <td>...</td>\n",
       "      <td>...</td>\n",
       "    </tr>\n",
       "    <tr>\n",
       "      <td>1795</td>\n",
       "      <td>2 days in the valley is more or less a pulp fi...</td>\n",
       "      <td>neg</td>\n",
       "    </tr>\n",
       "    <tr>\n",
       "      <td>1796</td>\n",
       "      <td>what would inspire someone who cannot write or...</td>\n",
       "      <td>neg</td>\n",
       "    </tr>\n",
       "    <tr>\n",
       "      <td>1797</td>\n",
       "      <td>synopsis : a novelist struggling with his late...</td>\n",
       "      <td>neg</td>\n",
       "    </tr>\n",
       "    <tr>\n",
       "      <td>1798</td>\n",
       "      <td>okay , okay . \\nmaybe i wasn't in the mood to ...</td>\n",
       "      <td>neg</td>\n",
       "    </tr>\n",
       "    <tr>\n",
       "      <td>1799</td>\n",
       "      <td>in life , eddie murphy and martin lawrence pla...</td>\n",
       "      <td>neg</td>\n",
       "    </tr>\n",
       "  </tbody>\n",
       "</table>\n",
       "<p>1800 rows × 2 columns</p>\n",
       "</div>"
      ],
      "text/plain": [
       "                                                content label\n",
       "0     films adapted from comic books have had plenty...   pos\n",
       "1     every now and then a movie comes along from a ...   pos\n",
       "2     you've got mail works alot better than it dese...   pos\n",
       "3      \" jaws \" is a rare film that grabs your atten...   pos\n",
       "4     moviemaking is a lot like being the general ma...   pos\n",
       "...                                                 ...   ...\n",
       "1795  2 days in the valley is more or less a pulp fi...   neg\n",
       "1796  what would inspire someone who cannot write or...   neg\n",
       "1797  synopsis : a novelist struggling with his late...   neg\n",
       "1798  okay , okay . \\nmaybe i wasn't in the mood to ...   neg\n",
       "1799  in life , eddie murphy and martin lawrence pla...   neg\n",
       "\n",
       "[1800 rows x 2 columns]"
      ]
     },
     "execution_count": 40,
     "metadata": {},
     "output_type": "execute_result"
    }
   ],
   "source": [
    "a_train"
   ]
  },
  {
   "cell_type": "markdown",
   "metadata": {},
   "source": [
    "## 1. Test avec scikitlearn"
   ]
  },
  {
   "cell_type": "code",
   "execution_count": 67,
   "metadata": {},
   "outputs": [],
   "source": [
    "a_train_pos = a_train[a_train['label']=='pos'] #documents de la classe pos \n",
    "a_train_neg = a_train[a_train['label']=='neg'] #documents de la classe neg"
   ]
  },
  {
   "cell_type": "code",
   "execution_count": 69,
   "metadata": {},
   "outputs": [],
   "source": [
    "def pourcentage(predictions, test):\n",
    "    a=0\n",
    "    for i in range(len(predictions)):\n",
    "        if(test['label'][i]==predictions[i]):\n",
    "            a+=1 \n",
    "    b = a/len(predictions)*100.0\n",
    "    return(b)"
   ]
  },
  {
   "cell_type": "code",
   "execution_count": 70,
   "metadata": {},
   "outputs": [],
   "source": [
    "vectorizer = CountVectorizer()\n",
    " \n",
    "counts = vectorizer.fit_transform(a_train['content'].values)"
   ]
  },
  {
   "cell_type": "code",
   "execution_count": 71,
   "metadata": {},
   "outputs": [
    {
     "data": {
      "text/plain": [
       "MultinomialNB(alpha=1.0, class_prior=None, fit_prior=True)"
      ]
     },
     "execution_count": 71,
     "metadata": {},
     "output_type": "execute_result"
    }
   ],
   "source": [
    "classifier = MultinomialNB()\n",
    "targets = a_train['label'].values\n",
    "classifier.fit(counts, targets)"
   ]
  },
  {
   "cell_type": "code",
   "execution_count": 72,
   "metadata": {},
   "outputs": [],
   "source": [
    "test = vectorizer.transform(a_test['content'])\n",
    "predictions = classifier.predict(test)"
   ]
  },
  {
   "cell_type": "code",
   "execution_count": 73,
   "metadata": {},
   "outputs": [
    {
     "name": "stdout",
     "output_type": "stream",
     "text": [
      "Le pourcentage de bonnes prédictions avec la libraire scikitlearn est de :  83.0 %\n"
     ]
    }
   ],
   "source": [
    "print('Le pourcentage de bonnes prédictions avec la libraire scikitlearn est de : ', pourcentage(predictions,a_test), '%')"
   ]
  },
  {
   "cell_type": "markdown",
   "metadata": {},
   "source": [
    "## 2. Implémentation du code"
   ]
  },
  {
   "cell_type": "markdown",
   "metadata": {},
   "source": [
    "### A. Le compte des mots "
   ]
  },
  {
   "cell_type": "code",
   "execution_count": 48,
   "metadata": {},
   "outputs": [],
   "source": [
    "def traitement_texte(L):\n",
    "    for i in range(len(L)): #traitement de textes \n",
    "        L[i] = L[i].lower() #lettres en micuscules\n",
    "        L[i] = re.sub(r'\\W',' ',L[i]) #suppression de la ponctuation \n",
    "        L[i] = re.sub(r'\\s+',' ',L[i]) #suppresion de espaces blancs\n",
    "    return L"
   ]
  },
  {
   "cell_type": "code",
   "execution_count": 49,
   "metadata": {},
   "outputs": [],
   "source": [
    "def freqMots(df):\n",
    "    l = []\n",
    "    dic = {}\n",
    "    for e in df.itertuples():\n",
    "        l.append(e[1])\n",
    "    L = traitement_texte(l)\n",
    "    for phr in L: #création du dictionnaire\n",
    "        mots = nltk.word_tokenize(phr)\n",
    "        for mot in mots:\n",
    "            if mot not in dic.keys():\n",
    "                dic[mot] = 1\n",
    "            else:\n",
    "                dic[mot] += 1\n",
    "    return dic"
   ]
  },
  {
   "cell_type": "code",
   "execution_count": 89,
   "metadata": {},
   "outputs": [],
   "source": [
    "dic = freqMots(a_train) #dictionnaire qu'on pourra utiliser comme vocabulaire"
   ]
  },
  {
   "cell_type": "code",
   "execution_count": 51,
   "metadata": {},
   "outputs": [],
   "source": [
    "dic_pos = freqMots(a_train_pos) #mots de la classe pos \n",
    "dic_neg = freqMots(a_train_neg) #mots de la classe neg"
   ]
  },
  {
   "cell_type": "code",
   "execution_count": 52,
   "metadata": {},
   "outputs": [],
   "source": [
    "nbr_mots_pos=0 #nombre de mots total dans la classe pos\n",
    "for valeur in dic_pos.values():\n",
    "    nbr_mots_pos+=valeur\n",
    "    \n",
    "nbr_mots_neg=0 #nombre de mots total dans la classe neg\n",
    "for valeur in dic_neg.values():\n",
    "    nbr_mots_neg+=valeur"
   ]
  },
  {
   "cell_type": "markdown",
   "metadata": {},
   "source": [
    "### B. Calcul des probabilités"
   ]
  },
  {
   "cell_type": "code",
   "execution_count": 77,
   "metadata": {},
   "outputs": [],
   "source": [
    "def conditionnal_prob(dic):\n",
    "    \"\"\"\n",
    "        fonction qui va calculer les probabilités conditionnelles de chaque mot selon la classe dont elle appartient\n",
    "    \"\"\"\n",
    "    dpos_prob = {} #dictionnaire qui contiendra les probabilités du vocabulaire pour la classe pos\n",
    "    dneg_prob = {} #dictionnaire qui contiendra les probabilités du vocabulaire pour la classe neg\n",
    "    a = 0\n",
    "    for cle, valeur in dic.items():\n",
    "        if cle in dic_pos:\n",
    "            a = (dic_pos[cle]+1.0)/(nbr_mots_pos+1) #utilisation de la formule \n",
    "            dpos_prob[cle]=a\n",
    "        else: #si le mot n'appartient pas à la classe \n",
    "            a = 1.0/(nbr_mots_pos+1)\n",
    "            dpos_prob[cle]=a\n",
    "        if cle in dic_neg:\n",
    "            a = (dic_neg[cle]+1.0)/(nbr_mots_neg+1)\n",
    "            dneg_prob[cle]=a\n",
    "        else: \n",
    "            a = 1.0/(nbr_mots_neg+1)\n",
    "            dneg_prob[cle]=a\n",
    "    return dpos_prob, dneg_prob "
   ]
  },
  {
   "cell_type": "code",
   "execution_count": 78,
   "metadata": {},
   "outputs": [],
   "source": [
    "dpos_prob, dneg_prob = conditionnal_prob(dic)"
   ]
  },
  {
   "cell_type": "markdown",
   "metadata": {},
   "source": [
    "### C. Choix de la classe"
   ]
  },
  {
   "cell_type": "code",
   "execution_count": 79,
   "metadata": {},
   "outputs": [],
   "source": [
    "def classe(df): \n",
    "    \"\"\"\n",
    "        fonction qui va déterminer selon la base d'apprentissage si un document de la base de test\n",
    "        est de la classe pos ou neg\n",
    "    \"\"\"\n",
    "    L=[]\n",
    "    Lp = []\n",
    "    Ln = []\n",
    "    l = []\n",
    "    for e in df.itertuples():\n",
    "        L.append(e[1])\n",
    "    for i in range(len(df)): #traitement de textes \n",
    "        L[i] = L[i].lower() #lettres en micuscules\n",
    "        L[i] = re.sub(r'\\W',' ',L[i]) #suppression de la ponctuation \n",
    "        L[i] = re.sub(r'\\s+',' ',L[i]) #suppresion de espaces blancs\n",
    "        #compte des mots \n",
    "        mots = L[i].split()\n",
    "        compte = {}.fromkeys(set(mots),0)\n",
    "        for valeur in mots:\n",
    "            compte[valeur] += 1\n",
    "        #Propriétés d'appartenir à la classe pos ou neg\n",
    "        pp = np.log(0.5) #0.5 est une prior probability pour la classe pos \n",
    "        pn = np.log(0.5) #0.5 est une prior probability pour la classe neg\n",
    "        for cle in compte.keys():\n",
    "            if cle in dic: \n",
    "                pp+=np.log(dpos_prob[cle]**(compte[cle])) \n",
    "                #en puissance compte[cle] correspond à la fréquence du mot dans le document\n",
    "            if cle in dic: \n",
    "                pn+=np.log(dneg_prob[cle]**(compte[cle]))\n",
    "        Lp.append(pp)\n",
    "        Ln.append(pn)\n",
    "    for i in range(len(Lp)): \n",
    "        if(Lp[i]>Ln[i]):\n",
    "            l.append('pos')\n",
    "        else:\n",
    "            l.append('neg')\n",
    "    return l"
   ]
  },
  {
   "cell_type": "code",
   "execution_count": 80,
   "metadata": {},
   "outputs": [],
   "source": [
    "pred = classe(a_test)"
   ]
  },
  {
   "cell_type": "code",
   "execution_count": 81,
   "metadata": {},
   "outputs": [
    {
     "name": "stdout",
     "output_type": "stream",
     "text": [
      "Le pourcentage de bonnes prédictions est de :  81.5 %\n"
     ]
    }
   ],
   "source": [
    "print('Le pourcentage de bonnes prédictions est de : ', pourcentage(pred,a_test), '%')"
   ]
  },
  {
   "cell_type": "code",
   "execution_count": 82,
   "metadata": {},
   "outputs": [
    {
     "name": "stdout",
     "output_type": "stream",
     "text": [
      "Le pourcentage de bonnes prédictions pour la classe pos est de :  73.0 %\n"
     ]
    }
   ],
   "source": [
    "pred_pos = classe(a_test[a_test['label']=='pos'])\n",
    "print('Le pourcentage de bonnes prédictions pour la classe pos est de : ', pourcentage(pred_pos,a_test[a_test['label']=='pos']), '%')"
   ]
  },
  {
   "cell_type": "code",
   "execution_count": 83,
   "metadata": {},
   "outputs": [
    {
     "name": "stdout",
     "output_type": "stream",
     "text": [
      "Le pourcentage de bonnes prédictions pour la classe neg est de :  90.0 %\n"
     ]
    }
   ],
   "source": [
    "pred_neg = classe(a_test[a_test['label']=='neg'])\n",
    "c = a_test[a_test['label']=='neg'].reset_index(drop = True)\n",
    "print('Le pourcentage de bonnes prédictions pour la classe neg est de : ', pourcentage(pred_neg, c), '%')"
   ]
  },
  {
   "cell_type": "markdown",
   "metadata": {},
   "source": [
    "#### Test avec les données françaises "
   ]
  },
  {
   "cell_type": "code",
   "execution_count": 84,
   "metadata": {},
   "outputs": [],
   "source": [
    "b_train = build_df(set='train', lang='fr')\n",
    "b_test = build_df(set='test', lang='fr')"
   ]
  },
  {
   "cell_type": "code",
   "execution_count": 85,
   "metadata": {},
   "outputs": [],
   "source": [
    "dic = freqMots(b_train) #dictionnaire qu'on pourra utiliser comme vocabulaire\n",
    "\n",
    "b_train_pos = b_train[b_train['label']=='pos'] #documents de la classe pos \n",
    "b_train_neg = b_train[b_train['label']=='neg'] #documents de la classe neg \n",
    "\n",
    "dic_pos = freqMots(b_train_pos) #mots de la classe pos \n",
    "dic_neg = freqMots(b_train_neg) #mots de la classe neg\n",
    "\n",
    "nbr_mots_pos=0 #nombre de mots total dans la classe pos\n",
    "for valeur in dic_pos.values():\n",
    "    nbr_mots_pos+=valeur\n",
    "    \n",
    "nbr_mots_neg=0 #nombre de mots total dans la classe neg\n",
    "for valeur in dic_neg.values():\n",
    "    nbr_mots_neg+=valeur"
   ]
  },
  {
   "cell_type": "code",
   "execution_count": 86,
   "metadata": {},
   "outputs": [],
   "source": [
    "dpos_prob, dneg_prob = conditionnal_prob(dic)"
   ]
  },
  {
   "cell_type": "code",
   "execution_count": 87,
   "metadata": {},
   "outputs": [],
   "source": [
    "pred = classe(b_test)"
   ]
  },
  {
   "cell_type": "code",
   "execution_count": 88,
   "metadata": {},
   "outputs": [
    {
     "name": "stdout",
     "output_type": "stream",
     "text": [
      "Le pourcentage de bonnes prédictions est de :  71.5 %\n"
     ]
    }
   ],
   "source": [
    "print('Le pourcentage de bonnes prédictions est de : ', pourcentage(pred,b_test), '%')"
   ]
  },
  {
   "cell_type": "code",
   "execution_count": null,
   "metadata": {},
   "outputs": [],
   "source": []
  }
 ],
 "metadata": {
  "kernelspec": {
   "display_name": "Python 3",
   "language": "python",
   "name": "python3"
  },
  "language_info": {
   "codemirror_mode": {
    "name": "ipython",
    "version": 3
   },
   "file_extension": ".py",
   "mimetype": "text/x-python",
   "name": "python",
   "nbconvert_exporter": "python",
   "pygments_lexer": "ipython3",
   "version": "3.7.4"
  }
 },
 "nbformat": 4,
 "nbformat_minor": 2
}
