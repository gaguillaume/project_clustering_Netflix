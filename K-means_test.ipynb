{
 "cells": [
  {
   "cell_type": "markdown",
   "metadata": {},
   "source": [
    "# Algorithme k-means  \n",
    "## Sur des données de test  \n",
    "----"
   ]
  },
  {
   "cell_type": "code",
   "execution_count": 1,
   "metadata": {},
   "outputs": [
    {
     "name": "stderr",
     "output_type": "stream",
     "text": [
      "/home/guillaume/anaconda3/lib/python3.7/site-packages/statsmodels/tools/_testing.py:19: FutureWarning: pandas.util.testing is deprecated. Use the functions in the public API at pandas.testing instead.\n",
      "  import pandas.util.testing as tm\n"
     ]
    }
   ],
   "source": [
    "import numpy as np\n",
    "import pandas as pd\n",
    "import scipy as sp\n",
    "import seaborn as sb\n",
    "import matplotlib.pyplot as plt\n",
    "%matplotlib inline"
   ]
  },
  {
   "cell_type": "code",
   "execution_count": 2,
   "metadata": {},
   "outputs": [],
   "source": [
    "class Point():\n",
    "    \n",
    "    def __init__(self, coords, color='black'):\n",
    "        self.coords = coords\n",
    "        self.x = self.coords[0]\n",
    "        self.y = self.coords[1]\n",
    "        self.color = color"
   ]
  },
  {
   "cell_type": "code",
   "execution_count": 3,
   "metadata": {},
   "outputs": [],
   "source": [
    "p1 = Point([1.5, 2], 'b')\n",
    "p2 = Point([1, 1], 'b')\n",
    "p3 = Point([3, 4], 'b')\n",
    "\n",
    "p4 = Point([8, 5], 'r')\n",
    "p5 = Point([9, 5.5], 'r')\n",
    "p6 = Point([7.5, 6], 'r')\n",
    "\n",
    "p7 = Point([1, 7], 'g')\n",
    "p8 = Point([4, 9], 'g')\n",
    "p9 = Point([3, 8], 'g')\n",
    "\n",
    "L = [p1, p2, p3, p4, p5, p6, p7, p8, p9]\n",
    "\n",
    "X = [p.x for p in L]\n",
    "Y = [p.y for p in L]\n",
    "colors = [p.color for p in L]\n",
    "df = pd.DataFrame({'X':X, 'Y':Y, 'colors':colors})"
   ]
  },
  {
   "cell_type": "code",
   "execution_count": 4,
   "metadata": {},
   "outputs": [
    {
     "data": {
      "text/html": [
       "<div>\n",
       "<style scoped>\n",
       "    .dataframe tbody tr th:only-of-type {\n",
       "        vertical-align: middle;\n",
       "    }\n",
       "\n",
       "    .dataframe tbody tr th {\n",
       "        vertical-align: top;\n",
       "    }\n",
       "\n",
       "    .dataframe thead th {\n",
       "        text-align: right;\n",
       "    }\n",
       "</style>\n",
       "<table border=\"1\" class=\"dataframe\">\n",
       "  <thead>\n",
       "    <tr style=\"text-align: right;\">\n",
       "      <th></th>\n",
       "      <th>X</th>\n",
       "      <th>Y</th>\n",
       "      <th>colors</th>\n",
       "    </tr>\n",
       "  </thead>\n",
       "  <tbody>\n",
       "    <tr>\n",
       "      <th>0</th>\n",
       "      <td>1.5</td>\n",
       "      <td>2.0</td>\n",
       "      <td>b</td>\n",
       "    </tr>\n",
       "    <tr>\n",
       "      <th>1</th>\n",
       "      <td>1.0</td>\n",
       "      <td>1.0</td>\n",
       "      <td>b</td>\n",
       "    </tr>\n",
       "    <tr>\n",
       "      <th>2</th>\n",
       "      <td>3.0</td>\n",
       "      <td>4.0</td>\n",
       "      <td>b</td>\n",
       "    </tr>\n",
       "    <tr>\n",
       "      <th>3</th>\n",
       "      <td>8.0</td>\n",
       "      <td>5.0</td>\n",
       "      <td>r</td>\n",
       "    </tr>\n",
       "    <tr>\n",
       "      <th>4</th>\n",
       "      <td>9.0</td>\n",
       "      <td>5.5</td>\n",
       "      <td>r</td>\n",
       "    </tr>\n",
       "    <tr>\n",
       "      <th>5</th>\n",
       "      <td>7.5</td>\n",
       "      <td>6.0</td>\n",
       "      <td>r</td>\n",
       "    </tr>\n",
       "    <tr>\n",
       "      <th>6</th>\n",
       "      <td>1.0</td>\n",
       "      <td>7.0</td>\n",
       "      <td>g</td>\n",
       "    </tr>\n",
       "    <tr>\n",
       "      <th>7</th>\n",
       "      <td>4.0</td>\n",
       "      <td>9.0</td>\n",
       "      <td>g</td>\n",
       "    </tr>\n",
       "    <tr>\n",
       "      <th>8</th>\n",
       "      <td>3.0</td>\n",
       "      <td>8.0</td>\n",
       "      <td>g</td>\n",
       "    </tr>\n",
       "  </tbody>\n",
       "</table>\n",
       "</div>"
      ],
      "text/plain": [
       "     X    Y colors\n",
       "0  1.5  2.0      b\n",
       "1  1.0  1.0      b\n",
       "2  3.0  4.0      b\n",
       "3  8.0  5.0      r\n",
       "4  9.0  5.5      r\n",
       "5  7.5  6.0      r\n",
       "6  1.0  7.0      g\n",
       "7  4.0  9.0      g\n",
       "8  3.0  8.0      g"
      ]
     },
     "execution_count": 4,
     "metadata": {},
     "output_type": "execute_result"
    }
   ],
   "source": [
    "df"
   ]
  },
  {
   "cell_type": "code",
   "execution_count": 5,
   "metadata": {},
   "outputs": [
    {
     "data": {
      "image/png": "[encoded data removed]",
      "text/plain": [
       "<Figure size 432x288 with 1 Axes>"
      ]
     },
     "metadata": {
      "needs_background": "light"
     },
     "output_type": "display_data"
    }
   ],
   "source": [
    "plt.scatter(df['X'], df['Y'], c=colors)\n",
    "\n",
    "plt.xlabel('x')\n",
    "plt.ylabel('y')\n",
    "plt.xlim(0, 10)\n",
    "plt.ylim(0, 10)\n",
    "plt.show()"
   ]
  },
  {
   "cell_type": "markdown",
   "metadata": {},
   "source": [
    "----"
   ]
  },
  {
   "cell_type": "code",
   "execution_count": 6,
   "metadata": {},
   "outputs": [],
   "source": [
    "class KMeans:\n",
    "    \n",
    "    def __init__(self, n_clusters=2):\n",
    "        self.K = n_clusters\n",
    "        \n",
    "    def fit1(self, X):\n",
    "        \"\"\"\n",
    "        On itère tant que les labels ne changent pas d'une itération à une autre.\n",
    "        \"\"\"\n",
    "        self.centroids = np.array(X.iloc[np.random.choice(len(X), self.K, replace=False)])\n",
    "        self.initial_centroids = self.centroids\n",
    "        self.prev_label,  self.labels = None, np.zeros(len(X))\n",
    "        while not np.all(self.labels == self.prev_label) :\n",
    "            self.prev_label = self.labels\n",
    "            self.labels = self.predict(X)\n",
    "            self.update_centroid(X)\n",
    "        return self\n",
    "    \n",
    "    def fit2(self, X):\n",
    "        \"\"\"\n",
    "        On fait un nombre fixe d'itérations. Ici 10, mais pourrait être passé en paramètre.\n",
    "        \"\"\"\n",
    "        self.centroids = np.array(X.iloc[np.random.choice(len(X), self.K, replace=False)])\n",
    "        self.initial_centroids = self.centroids\n",
    "        self.prev_label,  self.labels = None, np.zeros(len(X))\n",
    "        for iter in range(50):\n",
    "            self.prev_label = self.labels\n",
    "            self.labels = self.predict(X)\n",
    "            self.update_centroid(X)\n",
    "        return self\n",
    "        \n",
    "    def predict(self, X):\n",
    "        return np.apply_along_axis(self.compute_label, 1, X)\n",
    "\n",
    "    def compute_label(self, x):\n",
    "        return self.euclidian_dist(x).argmin()\n",
    "    \n",
    "    def euclidian_dist(self, x):\n",
    "        return np.sqrt(np.sum((x - self.centroids)**2, axis=1))\n",
    "\n",
    "    def update_centroid(self, X):\n",
    "        self.centroids = np.array([np.mean(X[self.labels == k], axis=0)  for k in range(self.K)])\n",
    "        \n",
    "kmeans = KMeans(3)"
   ]
  },
  {
   "cell_type": "code",
   "execution_count": 7,
   "metadata": {},
   "outputs": [],
   "source": [
    "X = df.loc[:,['X','Y']]\n",
    "X;"
   ]
  },
  {
   "cell_type": "code",
   "execution_count": 8,
   "metadata": {},
   "outputs": [
    {
     "data": {
      "text/plain": [
       "array([0, 0, 0, 1, 1, 1, 2, 2, 2])"
      ]
     },
     "execution_count": 8,
     "metadata": {},
     "output_type": "execute_result"
    }
   ],
   "source": [
    "kmeans = KMeans(3)\n",
    "kmeans.fit1(X)\n",
    "kmeans.labels"
   ]
  },
  {
   "cell_type": "code",
   "execution_count": 9,
   "metadata": {},
   "outputs": [
    {
     "data": {
      "text/plain": [
       "array([1, 1, 1, 0, 0, 0, 2, 2, 2])"
      ]
     },
     "execution_count": 9,
     "metadata": {},
     "output_type": "execute_result"
    }
   ],
   "source": [
    "kmeans = KMeans(3)\n",
    "kmeans.fit2(X)\n",
    "kmeans.labels"
   ]
  },
  {
   "cell_type": "code",
   "execution_count": 10,
   "metadata": {},
   "outputs": [
    {
     "data": {
      "text/plain": [
       "array([[8.16666667, 5.5       ],\n",
       "       [1.83333333, 2.33333333],\n",
       "       [2.66666667, 8.        ]])"
      ]
     },
     "execution_count": 10,
     "metadata": {},
     "output_type": "execute_result"
    }
   ],
   "source": [
    "kmeans.centroids"
   ]
  },
  {
   "cell_type": "code",
   "execution_count": 11,
   "metadata": {},
   "outputs": [],
   "source": [
    "p10 = Point([5, 5])\n",
    "p11 = Point([8, 8])\n",
    "\n",
    "pC1 = Point(kmeans.centroids[0])\n",
    "pC2 = Point(kmeans.centroids[1])\n",
    "pC3 = Point(kmeans.centroids[2])"
   ]
  },
  {
   "cell_type": "code",
   "execution_count": 12,
   "metadata": {},
   "outputs": [
    {
     "data": {
      "text/plain": [
       "1"
      ]
     },
     "execution_count": 12,
     "metadata": {},
     "output_type": "execute_result"
    }
   ],
   "source": [
    "# Pour obtenir le label d'un nouveau point\n",
    "kmeans.compute_label(pC2.coords)"
   ]
  },
  {
   "cell_type": "markdown",
   "metadata": {},
   "source": [
    "----"
   ]
  },
  {
   "cell_type": "code",
   "execution_count": 13,
   "metadata": {},
   "outputs": [
    {
     "data": {
      "image/png": "[encoded data removed]",
      "text/plain": [
       "<Figure size 432x288 with 1 Axes>"
      ]
     },
     "metadata": {
      "needs_background": "light"
     },
     "output_type": "display_data"
    }
   ],
   "source": [
    "cmap = {0:'b', 1:'r', 2:'g'}\n",
    "\n",
    "plt.scatter(df['X'], df['Y'], c=kmeans.labels)\n",
    "\n",
    "plt.xlabel('x')\n",
    "plt.ylabel('y')\n",
    "plt.xlim(0, 10)\n",
    "plt.ylim(0, 10)\n",
    "\n",
    "# plt.scatter(p10.x, p10.y, c=kmeans.compute_label(p10.coords), cmap=cmap)\n",
    "# plt.scatter(p11.x, p11.y, c=kmeans.compute_label(p11.coords), cmap=cmap)\n",
    "\n",
    "plt.scatter(pC1.x, pC1.y, c=kmeans.compute_label(pC1.coords), marker='s')\n",
    "plt.scatter(pC2.x, pC2.y, c=kmeans.compute_label(pC2.coords), marker='s')\n",
    "plt.scatter(pC3.x, pC3.y, c=kmeans.compute_label(pC3.coords), marker='s')\n",
    "plt.show()"
   ]
  },
  {
   "cell_type": "code",
   "execution_count": 14,
   "metadata": {},
   "outputs": [
    {
     "name": "stdout",
     "output_type": "stream",
     "text": [
      "dist(p10,pC1) : 3.2058973436118903\n",
      "dist(p10,pC2) : 4.139914116124741\n",
      "dist(p10,pC3) : 3.80058475033046\n",
      "\n",
      "dist(p11,pC1) : 2.5055493963954847\n",
      "dist(p11,pC2) : 8.374896350934074\n",
      "dist(p11,pC3) : 5.333333333333334\n"
     ]
    }
   ],
   "source": [
    "print('dist(p10,pC1) :',np.sqrt(np.sum((p10.coords - pC1.coords)**2)))\n",
    "print('dist(p10,pC2) :',np.sqrt(np.sum((p10.coords - pC2.coords)**2)))\n",
    "print('dist(p10,pC3) :',np.sqrt(np.sum((p10.coords - pC3.coords)**2)))\n",
    "print()\n",
    "print('dist(p11,pC1) :',np.sqrt(np.sum((p11.coords - pC1.coords)**2)))\n",
    "print('dist(p11,pC2) :',np.sqrt(np.sum((p11.coords - pC2.coords)**2)))\n",
    "print('dist(p11,pC3) :',np.sqrt(np.sum((p11.coords - pC3.coords)**2)))"
   ]
  },
  {
   "cell_type": "code",
   "execution_count": null,
   "metadata": {},
   "outputs": [],
   "source": []
  },
  {
   "cell_type": "markdown",
   "metadata": {},
   "source": [
    "----"
   ]
  },
  {
   "cell_type": "code",
   "execution_count": 15,
   "metadata": {},
   "outputs": [
    {
     "data": {
      "text/plain": [
       "array([0, 0, 0, 2, 2, 2, 0, 1, 1])"
      ]
     },
     "execution_count": 15,
     "metadata": {},
     "output_type": "execute_result"
    }
   ],
   "source": [
    "def compute_label(x):\n",
    "    return np.sqrt(np.sum((x - centroids)**2, axis=1)).argmin()\n",
    "\n",
    "X = df.loc[:,['X','Y']]\n",
    "centroids = np.array(X.iloc[np.random.choice(len(X), 3, replace=False)])\n",
    "\n",
    "labels = np.apply_along_axis(compute_label, 1, X)\n",
    "labels"
   ]
  },
  {
   "cell_type": "code",
   "execution_count": 16,
   "metadata": {},
   "outputs": [
    {
     "data": {
      "text/plain": [
       "array([[1., 7.],\n",
       "       [3., 8.],\n",
       "       [8., 5.]])"
      ]
     },
     "execution_count": 16,
     "metadata": {},
     "output_type": "execute_result"
    }
   ],
   "source": [
    "centroids"
   ]
  },
  {
   "cell_type": "code",
   "execution_count": 17,
   "metadata": {},
   "outputs": [
    {
     "data": {
      "text/plain": [
       "array([[1.625     , 3.5       ],\n",
       "       [3.5       , 8.5       ],\n",
       "       [8.16666667, 5.5       ]])"
      ]
     },
     "execution_count": 17,
     "metadata": {},
     "output_type": "execute_result"
    }
   ],
   "source": [
    "new_centroids = np.array([np.mean(X[labels == k], axis=0)  for k in range(3)])\n",
    "new_centroids"
   ]
  },
  {
   "cell_type": "code",
   "execution_count": 18,
   "metadata": {},
   "outputs": [
    {
     "data": {
      "text/html": [
       "<div>\n",
       "<style scoped>\n",
       "    .dataframe tbody tr th:only-of-type {\n",
       "        vertical-align: middle;\n",
       "    }\n",
       "\n",
       "    .dataframe tbody tr th {\n",
       "        vertical-align: top;\n",
       "    }\n",
       "\n",
       "    .dataframe thead th {\n",
       "        text-align: right;\n",
       "    }\n",
       "</style>\n",
       "<table border=\"1\" class=\"dataframe\">\n",
       "  <thead>\n",
       "    <tr style=\"text-align: right;\">\n",
       "      <th></th>\n",
       "      <th>X</th>\n",
       "      <th>Y</th>\n",
       "      <th>colors</th>\n",
       "    </tr>\n",
       "  </thead>\n",
       "  <tbody>\n",
       "    <tr>\n",
       "      <th>4</th>\n",
       "      <td>9.0</td>\n",
       "      <td>5.5</td>\n",
       "      <td>r</td>\n",
       "    </tr>\n",
       "    <tr>\n",
       "      <th>0</th>\n",
       "      <td>1.5</td>\n",
       "      <td>2.0</td>\n",
       "      <td>b</td>\n",
       "    </tr>\n",
       "    <tr>\n",
       "      <th>3</th>\n",
       "      <td>8.0</td>\n",
       "      <td>5.0</td>\n",
       "      <td>r</td>\n",
       "    </tr>\n",
       "  </tbody>\n",
       "</table>\n",
       "</div>"
      ],
      "text/plain": [
       "     X    Y colors\n",
       "4  9.0  5.5      r\n",
       "0  1.5  2.0      b\n",
       "3  8.0  5.0      r"
      ]
     },
     "execution_count": 18,
     "metadata": {},
     "output_type": "execute_result"
    }
   ],
   "source": [
    "df.iloc[np.random.choice(len(df), 3, replace=False)]"
   ]
  },
  {
   "cell_type": "code",
   "execution_count": 19,
   "metadata": {},
   "outputs": [
    {
     "data": {
      "text/html": [
       "<div>\n",
       "<style scoped>\n",
       "    .dataframe tbody tr th:only-of-type {\n",
       "        vertical-align: middle;\n",
       "    }\n",
       "\n",
       "    .dataframe tbody tr th {\n",
       "        vertical-align: top;\n",
       "    }\n",
       "\n",
       "    .dataframe thead th {\n",
       "        text-align: right;\n",
       "    }\n",
       "</style>\n",
       "<table border=\"1\" class=\"dataframe\">\n",
       "  <thead>\n",
       "    <tr style=\"text-align: right;\">\n",
       "      <th></th>\n",
       "      <th>X</th>\n",
       "      <th>Y</th>\n",
       "      <th>colors</th>\n",
       "    </tr>\n",
       "  </thead>\n",
       "  <tbody>\n",
       "    <tr>\n",
       "      <th>7</th>\n",
       "      <td>4.0</td>\n",
       "      <td>9.0</td>\n",
       "      <td>g</td>\n",
       "    </tr>\n",
       "    <tr>\n",
       "      <th>1</th>\n",
       "      <td>1.0</td>\n",
       "      <td>1.0</td>\n",
       "      <td>b</td>\n",
       "    </tr>\n",
       "    <tr>\n",
       "      <th>5</th>\n",
       "      <td>7.5</td>\n",
       "      <td>6.0</td>\n",
       "      <td>r</td>\n",
       "    </tr>\n",
       "  </tbody>\n",
       "</table>\n",
       "</div>"
      ],
      "text/plain": [
       "     X    Y colors\n",
       "7  4.0  9.0      g\n",
       "1  1.0  1.0      b\n",
       "5  7.5  6.0      r"
      ]
     },
     "execution_count": 19,
     "metadata": {},
     "output_type": "execute_result"
    }
   ],
   "source": [
    "df.sample(3, random_state=42)"
   ]
  },
  {
   "cell_type": "code",
   "execution_count": null,
   "metadata": {},
   "outputs": [],
   "source": []
  },
  {
   "cell_type": "code",
   "execution_count": null,
   "metadata": {},
   "outputs": [],
   "source": []
  }
 ],
 "metadata": {
  "kernelspec": {
   "display_name": "Python 3",
   "language": "python",
   "name": "python3"
  },
  "language_info": {
   "codemirror_mode": {
    "name": "ipython",
    "version": 3
   },
   "file_extension": ".py",
   "mimetype": "text/x-python",
   "name": "python",
   "nbconvert_exporter": "python",
   "pygments_lexer": "ipython3",
   "version": "3.7.4"
  }
 },
 "nbformat": 4,
 "nbformat_minor": 2
}
