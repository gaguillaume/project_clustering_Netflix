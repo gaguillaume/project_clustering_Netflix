{
 "cells": [
  {
   "cell_type": "markdown",
   "metadata": {},
   "source": [
    "# Algorithme k-means et k-medoids \n",
    "## Sur des données de test  \n",
    "----"
   ]
  },
  {
   "cell_type": "markdown",
   "metadata": {},
   "source": [
    "# To do :  \n",
    "- ~~Comparer avec le code de l'algorithme de sklearn~~ ==> difficile à comprendre\n",
    "- Faire des clusters avec des gaussiennes pour test\n",
    "- ~~Ajouter distance L1 et distance cosinus~~\n",
    "- ~~Tester avec des nuages de point de la forme :  ~~  \n",
    "    o   o   o   o   o   o   o   o   o  \n",
    "    x   x   x   x   x   x   x   x   x \n",
    "- Algorithme de k-medoids\n",
    "- Complexité des algorithmes\n",
    "- diagramme"
   ]
  },
  {
   "cell_type": "code",
   "execution_count": 1,
   "metadata": {},
   "outputs": [
    {
     "name": "stderr",
     "output_type": "stream",
     "text": [
      "/home/guillaume/anaconda3/lib/python3.7/site-packages/statsmodels/tools/_testing.py:19: FutureWarning: pandas.util.testing is deprecated. Use the functions in the public API at pandas.testing instead.\n",
      "  import pandas.util.testing as tm\n"
     ]
    }
   ],
   "source": [
    "import numpy as np\n",
    "import pandas as pd\n",
    "import scipy as sp\n",
    "from scipy.spatial import Voronoi, voronoi_plot_2d\n",
    "import seaborn as sb\n",
    "import matplotlib.pyplot as plt\n",
    "%matplotlib inline"
   ]
  },
  {
   "cell_type": "markdown",
   "metadata": {},
   "source": [
    "## Classes"
   ]
  },
  {
   "cell_type": "code",
   "execution_count": 2,
   "metadata": {},
   "outputs": [],
   "source": [
    "class Point():\n",
    "    \n",
    "    def __init__(self, coords, color='black'):\n",
    "        self.coords = coords\n",
    "        self.x = self.coords[0]\n",
    "        self.y = self.coords[1]\n",
    "        self.color = color"
   ]
  },
  {
   "cell_type": "code",
   "execution_count": 66,
   "metadata": {},
   "outputs": [],
   "source": [
    "class KMeans:\n",
    "    \n",
    "    def __init__(self, n_clusters=2, n_iter=100, dist='euc'):\n",
    "        \"\"\"\n",
    "        n_clusters : int\n",
    "            Nombre de clusters à former. 2 par défaut.\n",
    "        \n",
    "        n_iter : int\n",
    "            Nombre d'itérations. 10 par défaut.\n",
    "        \n",
    "        dist : string\n",
    "            Nom de la distance à utiliser. Distance euclidienne par défaut.\n",
    "            - 'euc' : distance euclidienne\n",
    "            - 'cos' : \"distance\" cosinus\n",
    "            - 'l1'  : distance L1, ou de Manhattan\n",
    "        \"\"\"\n",
    "        self.K = n_clusters\n",
    "        self.n_iter = n_iter\n",
    "        self.dist = dist\n",
    "        \n",
    "    def fit(self, X, drawing=False):\n",
    "        \"\"\"\n",
    "        On effectue un nombre d'itérations fixe défini par self.n_iter\n",
    "        \"\"\"\n",
    "        if not isinstance(X, np.ndarray):\n",
    "            X = np.array(X)\n",
    "            \n",
    "        self.centroids = X[np.random.choice(len(X), self.K, replace=False)]\n",
    "        self.initial_centroids = self.centroids\n",
    "        self.prev_label,  self.labels = None, np.zeros(len(X))\n",
    "        for i in range(1,self.n_iter+1):\n",
    "            self.prev_label = self.labels\n",
    "            self.labels = self.predict_labels(X, self.centroids, self.dist)\n",
    "            self.update_centroid(X)\n",
    "            \n",
    "            if i % 10 == 0: #On plot toutes les 10 itérations\n",
    "                self.draw_graph(X, i=i, show=drawing) \n",
    "        return self\n",
    "        \n",
    "    def predict_labels(self, X, centroids, dist='euc'):\n",
    "        return self.distance(X, centroids, dist).argmin(axis=1)\n",
    "    \n",
    "    def distance(self, X, centroids, dist='euc'):\n",
    "        map = {'euc':'euclidean', 'cos':'cosine', 'l1':'cityblock'}\n",
    "        return sp.spatial.distance.cdist(X, centroids, metric=map[dist])\n",
    "    \n",
    "    def update_centroid(self, X):\n",
    "        self.centroids = np.array([np.mean(X[self.labels == k], axis=0)  for k in range(self.K)])\n",
    "        \n",
    "    def draw_graph(self, X, i=0, show=True):\n",
    "#         voronoi_plot_2d(Voronoi(self.centroids), show_points=False)\n",
    "        plt.scatter(X[:, 0], X[:, 1], c=self.labels, s=50, cmap='viridis')\n",
    "        plt.scatter(self.centroids[:, 0], self.centroids[:, 1], c='black', s=200, alpha=0.5)\n",
    "        plt.xlabel('x'); plt.ylabel('y'); plt.title(f'Iteration n°{i}')\n",
    "        self.graph = plt.gcf()\n",
    "        if show: plt.show()\n",
    "        else: plt.close(self.graph)\n",
    "\n",
    "        \n",
    "# kmeans = KMeans(n_clusters=3, n_iter=100, dist='euc')"
   ]
  },
  {
   "cell_type": "code",
   "execution_count": 67,
   "metadata": {},
   "outputs": [],
   "source": [
    "class KMedoids:\n",
    "    \n",
    "    def __init__(self, n_clusters=2, n_iter=100, dist='euc'):\n",
    "        \"\"\"\n",
    "        n_clusters : int\n",
    "            Nombre de clusters à former. 2 par défaut.\n",
    "        \n",
    "        n_iter : int\n",
    "            Nombre d'itérations. 10 par défaut.\n",
    "        \n",
    "        dist : string\n",
    "            Nom de la distance à utiliser. Distance euclidienne par défaut.\n",
    "            - 'euc' : distance euclidienne\n",
    "            - 'cos' : \"distance\" cosinus\n",
    "            - 'l1'  : distance L1, ou de Manhattan\n",
    "        \"\"\"\n",
    "        self.K = n_clusters\n",
    "        self.n_iter = n_iter\n",
    "        self.dist = dist\n",
    "        \n",
    "    def fit(self, X, drawing=False):\n",
    "        \"\"\"\n",
    "        On effectue un nombre d'itérations fixe défini par self.n_iter\n",
    "        \"\"\"\n",
    "        if not isinstance(X, np.ndarray):\n",
    "            X = np.array(X)\n",
    "            \n",
    "        self.centroids = X[np.random.choice(len(X), self.K, replace=False)]\n",
    "        self.initial_centroids = self.centroids\n",
    "        self.prev_label,  self.labels = None, np.zeros(len(X))\n",
    "        for i in range(1,self.n_iter+1):\n",
    "            self.prev_label = self.labels\n",
    "            self.labels = self.predict_labels(X, self.centroids, self.dist)\n",
    "            self.update_centroid(X, self.dist)\n",
    "            \n",
    "            if i % 10 == 0: #On plot toutes les 10 itérations\n",
    "                self.draw_graph(X, i=i, show=drawing) \n",
    "        return self\n",
    "        \n",
    "    def predict_labels(self, X, centroids, dist='euc'):\n",
    "        return self.distance(X, centroids, dist).argmin(axis=1)\n",
    "    \n",
    "    def distance(self, X, centroids, dist='euc'):\n",
    "        map = {'euc':'euclidean', 'cos':'cosine', 'l1':'cityblock'}\n",
    "        return sp.spatial.distance.cdist(X, centroids, metric=map[dist])\n",
    "    \n",
    "    def update_centroid(self, X, dist='euc'):\n",
    "        self.centroids = np.array([np.mean(X[self.labels == k], axis=0)  for k in range(self.K)])\n",
    "        distances = self.distance(X, self.centroids, dist=dist)\n",
    "        self.centroids = X[distances.argmin(axis=0)]\n",
    "        \n",
    "    def draw_graph(self, X, i=0, show=True):\n",
    "        plt.scatter(X[:, 0], X[:, 1], c=self.labels, s=50, cmap='viridis')\n",
    "        plt.scatter(self.centroids[:, 0], self.centroids[:, 1], c='black', s=200, alpha=0.5)\n",
    "        plt.xlabel('x'); plt.ylabel('y'); plt.title(f'Iteration n°{i}')\n",
    "        self.graph = plt.gcf()\n",
    "        if show: plt.show()\n",
    "        else: plt.close(self.graph)\n",
    "\n",
    "        "
   ]
  },
  {
   "cell_type": "code",
   "execution_count": null,
   "metadata": {},
   "outputs": [],
   "source": []
  },
  {
   "cell_type": "markdown",
   "metadata": {},
   "source": [
    "----\n",
    "## Test avec points 2D"
   ]
  },
  {
   "cell_type": "code",
   "execution_count": 59,
   "metadata": {},
   "outputs": [],
   "source": [
    "p1 = Point([1.5, 2], 'b')\n",
    "p2 = Point([1, 1], 'b')\n",
    "p3 = Point([3, 4], 'b')\n",
    "\n",
    "p4 = Point([8, 5], 'r')\n",
    "p5 = Point([9, 5.5], 'r')\n",
    "p6 = Point([7.5, 6], 'r')\n",
    "\n",
    "p7 = Point([1, 7], 'g')\n",
    "p8 = Point([4, 9], 'g')\n",
    "p9 = Point([3, 8], 'g')\n",
    "\n",
    "L = [p1, p2, p3, p4, p5, p6, p7, p8, p9]\n",
    "\n",
    "X = [p.x for p in L]\n",
    "Y = [p.y for p in L]\n",
    "colors = [p.color for p in L]\n",
    "df = pd.DataFrame({'X':X, 'Y':Y, 'colors':colors})\n",
    "\n",
    "df_X = df.loc[:,['X','Y']]"
   ]
  },
  {
   "cell_type": "code",
   "execution_count": 60,
   "metadata": {},
   "outputs": [
    {
     "data": {
      "image/png": "[encoded data removed]",
      "text/plain": [
       "<Figure size 432x288 with 1 Axes>"
      ]
     },
     "metadata": {
      "needs_background": "light"
     },
     "output_type": "display_data"
    }
   ],
   "source": [
    "plt.scatter(df['X'], df['Y'], c=colors)\n",
    "\n",
    "plt.xlabel('x')\n",
    "plt.ylabel('y')\n",
    "plt.xlim(0, 10)\n",
    "plt.ylim(0, 10)\n",
    "plt.show()"
   ]
  },
  {
   "cell_type": "markdown",
   "metadata": {},
   "source": [
    "----"
   ]
  },
  {
   "cell_type": "code",
   "execution_count": 68,
   "metadata": {
    "scrolled": true
   },
   "outputs": [
    {
     "data": {
      "text/plain": [
       "array([2, 2, 2, 0, 0, 0, 1, 1, 1])"
      ]
     },
     "execution_count": 68,
     "metadata": {},
     "output_type": "execute_result"
    }
   ],
   "source": [
    "kmeans = KMeans(n_clusters=3, n_iter=100, dist='euc')\n",
    "kmeans.fit(df_X, drawing=False)\n",
    "kmeans.labels"
   ]
  },
  {
   "cell_type": "code",
   "execution_count": 69,
   "metadata": {
    "scrolled": true
   },
   "outputs": [
    {
     "data": {
      "image/png": "[encoded data removed]",
      "text/plain": [
       "<Figure size 432x288 with 1 Axes>"
      ]
     },
     "execution_count": 69,
     "metadata": {},
     "output_type": "execute_result"
    }
   ],
   "source": [
    "kmeans.graph"
   ]
  },
  {
   "cell_type": "code",
   "execution_count": 9,
   "metadata": {},
   "outputs": [
    {
     "data": {
      "image/png": "[encoded data removed]",
      "text/plain": [
       "<Figure size 432x288 with 1 Axes>"
      ]
     },
     "execution_count": 9,
     "metadata": {},
     "output_type": "execute_result"
    },
    {
     "data": {
      "image/png": "[encoded data removed]",
      "text/plain": [
       "<Figure size 432x288 with 1 Axes>"
      ]
     },
     "metadata": {
      "needs_background": "light"
     },
     "output_type": "display_data"
    }
   ],
   "source": [
    "\n",
    "\n",
    "centers = kmeans.centroids\n",
    "vor = Voronoi(centers)\n",
    "voronoi_plot_2d(vor)"
   ]
  },
  {
   "cell_type": "code",
   "execution_count": 70,
   "metadata": {},
   "outputs": [
    {
     "data": {
      "text/plain": [
       "array([1, 1, 1, 2, 2, 2, 0, 0, 0])"
      ]
     },
     "execution_count": 70,
     "metadata": {},
     "output_type": "execute_result"
    }
   ],
   "source": [
    "kmed = KMedoids(n_clusters=3, n_iter=100, dist='euc')\n",
    "kmed.fit(df_X, drawing=False)\n",
    "kmed.labels"
   ]
  },
  {
   "cell_type": "code",
   "execution_count": 71,
   "metadata": {},
   "outputs": [
    {
     "data": {
      "image/png": "[encoded data removed]",
      "text/plain": [
       "<Figure size 432x288 with 1 Axes>"
      ]
     },
     "execution_count": 71,
     "metadata": {},
     "output_type": "execute_result"
    }
   ],
   "source": [
    "kmed.graph"
   ]
  },
  {
   "cell_type": "code",
   "execution_count": null,
   "metadata": {},
   "outputs": [],
   "source": []
  },
  {
   "cell_type": "markdown",
   "metadata": {},
   "source": [
    "----"
   ]
  },
  {
   "cell_type": "markdown",
   "metadata": {},
   "source": [
    "## Test cas particulier"
   ]
  },
  {
   "cell_type": "code",
   "execution_count": 12,
   "metadata": {},
   "outputs": [],
   "source": [
    "p1 = Point([1, 2], 'b')\n",
    "p2 = Point([3, 2], 'b')\n",
    "p3 = Point([5, 2], 'b')\n",
    "p4 = Point([7, 2], 'b')\n",
    "p5 = Point([9, 2], 'b')\n",
    "\n",
    "p6 = Point([1, 6], 'g')\n",
    "p7 = Point([3, 6], 'g')\n",
    "p8 = Point([5, 6], 'g')\n",
    "p9 = Point([7, 6], 'g')\n",
    "p10 = Point([9, 6], 'g')\n",
    "\n",
    "\n",
    "L = [p1, p2, p3, p4, p5, p6, p7, p8, p9, p10]\n",
    "\n",
    "X = [p.x for p in L]\n",
    "Y = [p.y for p in L]\n",
    "colors = [p.color for p in L]\n",
    "df = pd.DataFrame({'X':X, 'Y':Y, 'colors':colors})\n",
    "\n",
    "df_X = df.loc[:,['X','Y']]\n",
    "\n",
    "df;"
   ]
  },
  {
   "cell_type": "code",
   "execution_count": 13,
   "metadata": {},
   "outputs": [
    {
     "data": {
      "image/png": "[encoded data removed]",
      "text/plain": [
       "<Figure size 432x288 with 1 Axes>"
      ]
     },
     "metadata": {
      "needs_background": "light"
     },
     "output_type": "display_data"
    }
   ],
   "source": [
    "plt.scatter(df['X'], df['Y'], c=colors)\n",
    "\n",
    "plt.xlabel('x')\n",
    "plt.ylabel('y')\n",
    "plt.xlim(0, 10)\n",
    "plt.ylim(0, 10)\n",
    "plt.show()"
   ]
  },
  {
   "cell_type": "code",
   "execution_count": 22,
   "metadata": {},
   "outputs": [
    {
     "data": {
      "text/plain": [
       "array([0, 0, 0, 1, 1, 0, 0, 1, 1, 1])"
      ]
     },
     "execution_count": 22,
     "metadata": {},
     "output_type": "execute_result"
    }
   ],
   "source": [
    "kmeans = KMeans(n_clusters=2, n_iter=100, dist='euc')\n",
    "kmeans.fit(df_X, drawing=False)\n",
    "kmeans.labels"
   ]
  },
  {
   "cell_type": "code",
   "execution_count": 23,
   "metadata": {},
   "outputs": [
    {
     "data": {
      "image/png": "[encoded data removed]",
      "text/plain": [
       "<Figure size 432x288 with 1 Axes>"
      ]
     },
     "execution_count": 23,
     "metadata": {},
     "output_type": "execute_result"
    }
   ],
   "source": [
    "kmeans.graph"
   ]
  },
  {
   "cell_type": "markdown",
   "metadata": {},
   "source": [
    "----"
   ]
  },
  {
   "cell_type": "code",
   "execution_count": 40,
   "metadata": {},
   "outputs": [],
   "source": [
    "import scipy.stats as stats\n",
    "\n",
    "c1=stats.multivariate_normal(mean=[1.,2], cov=[[2, -1],[-2, 4]])\n",
    "c2=stats.multivariate_normal(mean=[-2,-0.5], cov=[[2, -1],[-2, 4]])"
   ]
  },
  {
   "cell_type": "code",
   "execution_count": 42,
   "metadata": {},
   "outputs": [
    {
     "name": "stderr",
     "output_type": "stream",
     "text": [
      "/home/guillaume/anaconda3/lib/python3.7/site-packages/scipy/stats/_multivariate.py:660: RuntimeWarning: covariance is not positive-semidefinite.\n",
      "  out = random_state.multivariate_normal(mean, cov, size)\n"
     ]
    }
   ],
   "source": [
    "c1rvs = c1.rvs(size=300)  #composantes dans la classe 1\n",
    "c2rvs = c2.rvs(size=300)"
   ]
  },
  {
   "cell_type": "code",
   "execution_count": 45,
   "metadata": {},
   "outputs": [
    {
     "data": {
      "text/plain": [
       "Text(0, 0.5, '$x_2$')"
      ]
     },
     "execution_count": 45,
     "metadata": {},
     "output_type": "execute_result"
    },
    {
     "data": {
      "image/png": "[encoded data removed]",
      "text/plain": [
       "<Figure size 432x288 with 1 Axes>"
      ]
     },
     "metadata": {
      "needs_background": "light"
     },
     "output_type": "display_data"
    }
   ],
   "source": [
    "x1_1 = c1rvs[:, 0]  #x1 dans la classe 1\n",
    "x2_1 = c1rvs[:, 1]  #x2 dans la classe 1\n",
    "x1_2 = c2rvs[:, 0]  #x1 dans la classe 2\n",
    "x2_2 = c2rvs[:, 1]  #x2 dans la classe 2\n",
    "#\n",
    "plt.scatter(x1_1, x2_1, marker='o', s=30, color='blue', alpha=0.6, label='Bleu')\n",
    "plt.scatter(x1_2, x2_2, s=30, color='green', alpha=0.6)\n",
    "plt.legend()\n",
    "plt.xlabel(\"$x_1$\")\n",
    "plt.ylabel(\"$x_2$\")"
   ]
  },
  {
   "cell_type": "markdown",
   "metadata": {},
   "source": [
    "----"
   ]
  },
  {
   "cell_type": "code",
   "execution_count": null,
   "metadata": {},
   "outputs": [],
   "source": []
  },
  {
   "cell_type": "code",
   "execution_count": null,
   "metadata": {},
   "outputs": [],
   "source": []
  },
  {
   "cell_type": "code",
   "execution_count": null,
   "metadata": {},
   "outputs": [],
   "source": []
  },
  {
   "cell_type": "code",
   "execution_count": null,
   "metadata": {},
   "outputs": [],
   "source": []
  },
  {
   "cell_type": "code",
   "execution_count": null,
   "metadata": {},
   "outputs": [],
   "source": []
  },
  {
   "cell_type": "code",
   "execution_count": 229,
   "metadata": {},
   "outputs": [],
   "source": [
    "'''\n",
    "Ancienne version de la classe KMeans, avant l'ajout des nouvelles distances *\n",
    "A garder pour le rapport\n",
    "'''\n",
    "\n",
    "class KMeans:\n",
    "    \n",
    "    def __init__(self, n_clusters=2):\n",
    "        self.K = n_clusters\n",
    "        \n",
    "    def fit(self, X, n_iter=10):\n",
    "        \"\"\"\n",
    "        n_iter : int\n",
    "                 Nombre d'itérations. 10 par défaut.\n",
    "        \"\"\"\n",
    "        self.n_iter = n_iter\n",
    "        self.centroids = np.array(X.iloc[np.random.choice(len(X), self.K, replace=False)])\n",
    "        self.initial_centroids = self.centroids\n",
    "        self.prev_label,  self.labels = None, np.zeros(len(X))\n",
    "        for _ in range(self.n_iter):\n",
    "            self.prev_label = self.labels\n",
    "            self.labels = self.predict(X)\n",
    "            self.update_centroid(X)\n",
    "        return self\n",
    "        \n",
    "    def fit1(self, X):\n",
    "        \"\"\"\n",
    "        On itère tant que les labels ne changent pas d'une itération à une autre.\n",
    "        \"\"\"\n",
    "        self.centroids = np.array(X.iloc[np.random.choice(len(X), self.K, replace=False)])\n",
    "        self.initial_centroids = self.centroids\n",
    "        self.prev_label,  self.labels = None, np.zeros(len(X))\n",
    "        while not np.all(self.labels == self.prev_label) :\n",
    "            self.prev_label = self.labels\n",
    "            self.labels = self.predict(X)\n",
    "            self.update_centroid(X)\n",
    "        return self\n",
    "        \n",
    "    def predict(self, X):\n",
    "        return np.apply_along_axis(self.compute_label, 1, X)\n",
    "\n",
    "    def compute_label(self, x):\n",
    "        return self.euclidian_dist(x).argmin()\n",
    "    \n",
    "    def euclidian_dist(self, x):\n",
    "        return np.sqrt(np.sum((x - self.centroids)**2, axis=1))\n",
    "\n",
    "    def update_centroid(self, X):\n",
    "        self.centroids = np.array([np.mean(X[self.labels == k], axis=0)  for k in range(self.K)])\n",
    "        \n",
    "kmeans = KMeans(3)"
   ]
  },
  {
   "cell_type": "code",
   "execution_count": null,
   "metadata": {},
   "outputs": [],
   "source": []
  }
 ],
 "metadata": {
  "kernelspec": {
   "display_name": "Python 3",
   "language": "python",
   "name": "python3"
  },
  "language_info": {
   "codemirror_mode": {
    "name": "ipython",
    "version": 3
   },
   "file_extension": ".py",
   "mimetype": "text/x-python",
   "name": "python",
   "nbconvert_exporter": "python",
   "pygments_lexer": "ipython3",
   "version": "3.7.4"
  }
 },
 "nbformat": 4,
 "nbformat_minor": 2
}
